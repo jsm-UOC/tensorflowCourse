{
  "nbformat": 4,
  "nbformat_minor": 0,
  "metadata": {
    "colab": {
      "provenance": [],
      "toc_visible": true,
      "authorship_tag": "ABX9TyMcD50yPfXRADhxG68yXIFE",
      "include_colab_link": true
    },
    "kernelspec": {
      "name": "python3",
      "display_name": "Python 3"
    },
    "language_info": {
      "name": "python"
    },
    "accelerator": "GPU",
    "gpuClass": "standard"
  },
  "cells": [
    {
      "cell_type": "markdown",
      "metadata": {
        "id": "view-in-github",
        "colab_type": "text"
      },
      "source": [
        "<a href=\"https://colab.research.google.com/github/jsm-UOC/tensorflowCourse/blob/main/FirstCourseTF.ipynb\" target=\"_parent\"><img src=\"https://colab.research.google.com/assets/colab-badge.svg\" alt=\"Open In Colab\"/></a>"
      ]
    },
    {
      "cell_type": "markdown",
      "source": [
        "# **First Tensorflow Program**\n",
        "### Import Tensorflow"
      ],
      "metadata": {
        "id": "48gZt3XVhlOL"
      }
    },
    {
      "cell_type": "code",
      "source": [
        "import tensorflow as tf\n",
        "print(tf.__version__)"
      ],
      "metadata": {
        "colab": {
          "base_uri": "https://localhost:8080/"
        },
        "id": "Spv3z_qL9_u-",
        "outputId": "50953848-3f9d-40e9-8a42-70e4dd08e28d"
      },
      "execution_count": null,
      "outputs": [
        {
          "output_type": "stream",
          "name": "stdout",
          "text": [
            "2.12.0\n"
          ]
        }
      ]
    },
    {
      "cell_type": "markdown",
      "source": [
        "# Difference between types of Tensors"
      ],
      "metadata": {
        "id": "TmXMaB_Ih41G"
      }
    },
    {
      "cell_type": "markdown",
      "source": [
        "## Scalar dim = 0"
      ],
      "metadata": {
        "id": "SbN91MdHjzy_"
      }
    },
    {
      "cell_type": "code",
      "source": [
        "scalar = tf.constant(7)\n",
        "scalar"
      ],
      "metadata": {
        "colab": {
          "base_uri": "https://localhost:8080/"
        },
        "id": "eeRXPELF-dvh",
        "outputId": "d6f24dec-fc17-4101-dfaf-fc21ee239149"
      },
      "execution_count": null,
      "outputs": [
        {
          "output_type": "execute_result",
          "data": {
            "text/plain": [
              "<tf.Tensor: shape=(), dtype=int32, numpy=7>"
            ]
          },
          "metadata": {},
          "execution_count": 17
        }
      ]
    },
    {
      "cell_type": "code",
      "source": [
        "scalar.ndim"
      ],
      "metadata": {
        "colab": {
          "base_uri": "https://localhost:8080/"
        },
        "id": "F1SAMeSX_QN4",
        "outputId": "30116eb1-3443-4e38-dff6-65d06cadab0b"
      },
      "execution_count": null,
      "outputs": [
        {
          "output_type": "execute_result",
          "data": {
            "text/plain": [
              "0"
            ]
          },
          "metadata": {},
          "execution_count": 18
        }
      ]
    },
    {
      "cell_type": "markdown",
      "source": [
        "## Vector dim = 1"
      ],
      "metadata": {
        "id": "rYxgwBAUibHC"
      }
    },
    {
      "cell_type": "code",
      "source": [
        "vector = tf.constant([10,10])\n",
        "vector"
      ],
      "metadata": {
        "colab": {
          "base_uri": "https://localhost:8080/"
        },
        "id": "oUzC8MJl_WCB",
        "outputId": "2bd69fdd-e15f-49fa-f909-8644ddd54622"
      },
      "execution_count": null,
      "outputs": [
        {
          "output_type": "execute_result",
          "data": {
            "text/plain": [
              "<tf.Tensor: shape=(2,), dtype=int32, numpy=array([10, 10], dtype=int32)>"
            ]
          },
          "metadata": {},
          "execution_count": 19
        }
      ]
    },
    {
      "cell_type": "code",
      "source": [
        "vector.ndim"
      ],
      "metadata": {
        "colab": {
          "base_uri": "https://localhost:8080/"
        },
        "id": "tUWsffWR_emy",
        "outputId": "32468491-13c3-422a-92e3-118d7f7b8b17"
      },
      "execution_count": null,
      "outputs": [
        {
          "output_type": "execute_result",
          "data": {
            "text/plain": [
              "1"
            ]
          },
          "metadata": {},
          "execution_count": 20
        }
      ]
    },
    {
      "cell_type": "markdown",
      "source": [
        "## Matrix dim = 2"
      ],
      "metadata": {
        "id": "xs0QuwH8igaj"
      }
    },
    {
      "cell_type": "code",
      "source": [
        "matrix = tf.constant([[10,7],\n",
        "                      [7,10]])\n",
        "matrix"
      ],
      "metadata": {
        "colab": {
          "base_uri": "https://localhost:8080/"
        },
        "id": "hOIXwTmG_s5p",
        "outputId": "467ed9d9-80b1-4b5f-bbc7-3a33416f8907"
      },
      "execution_count": null,
      "outputs": [
        {
          "output_type": "execute_result",
          "data": {
            "text/plain": [
              "<tf.Tensor: shape=(2, 2), dtype=int32, numpy=\n",
              "array([[10,  7],\n",
              "       [ 7, 10]], dtype=int32)>"
            ]
          },
          "metadata": {},
          "execution_count": 21
        }
      ]
    },
    {
      "cell_type": "code",
      "source": [
        "matrix.ndim"
      ],
      "metadata": {
        "colab": {
          "base_uri": "https://localhost:8080/"
        },
        "id": "GaVIbnhHAK1G",
        "outputId": "92f08c8a-a79d-4626-a245-0917dc4f99f8"
      },
      "execution_count": null,
      "outputs": [
        {
          "output_type": "execute_result",
          "data": {
            "text/plain": [
              "2"
            ]
          },
          "metadata": {},
          "execution_count": 22
        }
      ]
    },
    {
      "cell_type": "code",
      "source": [
        "another_matrix = tf.constant([[10.,7.],\n",
        "                             [3.,2.],\n",
        "                             [8.,9.]], dtype = tf.float16)\n",
        "another_matrix"
      ],
      "metadata": {
        "colab": {
          "base_uri": "https://localhost:8080/"
        },
        "id": "O-b1uyb6ARSV",
        "outputId": "b45094af-387d-4f06-fee1-211693852fbc"
      },
      "execution_count": null,
      "outputs": [
        {
          "output_type": "execute_result",
          "data": {
            "text/plain": [
              "<tf.Tensor: shape=(3, 2), dtype=float16, numpy=\n",
              "array([[10.,  7.],\n",
              "       [ 3.,  2.],\n",
              "       [ 8.,  9.]], dtype=float16)>"
            ]
          },
          "metadata": {},
          "execution_count": 23
        }
      ]
    },
    {
      "cell_type": "code",
      "source": [
        "another_matrix.ndim"
      ],
      "metadata": {
        "colab": {
          "base_uri": "https://localhost:8080/"
        },
        "id": "nNu84HJSA5l3",
        "outputId": "42705d8e-25f9-4563-f549-6a3dc323ec53"
      },
      "execution_count": null,
      "outputs": [
        {
          "output_type": "execute_result",
          "data": {
            "text/plain": [
              "2"
            ]
          },
          "metadata": {},
          "execution_count": 24
        }
      ]
    },
    {
      "cell_type": "markdown",
      "source": [
        "## Tensor dim = 3"
      ],
      "metadata": {
        "id": "wnq5f299im-E"
      }
    },
    {
      "cell_type": "code",
      "source": [
        "tensor = tf.constant([[[1,2,3],\n",
        "                       [4,5,6],\n",
        "                       [7,8,9]],\n",
        "                      [[11,22,33],\n",
        "                       [44,55,66],\n",
        "                       [77,88,99]]])\n",
        "tensor"
      ],
      "metadata": {
        "colab": {
          "base_uri": "https://localhost:8080/"
        },
        "id": "ZVqxbs-QBBX5",
        "outputId": "a7bd705a-79df-4b4d-cf80-9b8f3b11bd7e"
      },
      "execution_count": null,
      "outputs": [
        {
          "output_type": "execute_result",
          "data": {
            "text/plain": [
              "<tf.Tensor: shape=(2, 3, 3), dtype=int32, numpy=\n",
              "array([[[ 1,  2,  3],\n",
              "        [ 4,  5,  6],\n",
              "        [ 7,  8,  9]],\n",
              "\n",
              "       [[11, 22, 33],\n",
              "        [44, 55, 66],\n",
              "        [77, 88, 99]]], dtype=int32)>"
            ]
          },
          "metadata": {},
          "execution_count": 25
        }
      ]
    },
    {
      "cell_type": "markdown",
      "source": [
        "# Difference between Variables and Constants"
      ],
      "metadata": {
        "id": "iKtvhiq1ixu9"
      }
    },
    {
      "cell_type": "code",
      "source": [
        "changeable_tensor = tf.Variable([10,7])\n",
        "unchangeable_tensor = tf.constant([10,7])\n",
        "changeable_tensor, unchangeable_tensor"
      ],
      "metadata": {
        "colab": {
          "base_uri": "https://localhost:8080/"
        },
        "id": "APlqxlExB4L8",
        "outputId": "514e2d56-5869-401e-cbcc-2aa728366df0"
      },
      "execution_count": null,
      "outputs": [
        {
          "output_type": "execute_result",
          "data": {
            "text/plain": [
              "(<tf.Variable 'Variable:0' shape=(2,) dtype=int32, numpy=array([10,  7], dtype=int32)>,\n",
              " <tf.Tensor: shape=(2,), dtype=int32, numpy=array([10,  7], dtype=int32)>)"
            ]
          },
          "metadata": {},
          "execution_count": 26
        }
      ]
    },
    {
      "cell_type": "code",
      "source": [
        "\n",
        "#changeable_tensor[0] = 7\n",
        "changeable_tensor"
      ],
      "metadata": {
        "colab": {
          "base_uri": "https://localhost:8080/"
        },
        "id": "WnhWn5Y5CoSO",
        "outputId": "10c74827-662e-42ed-8224-424c6931be72"
      },
      "execution_count": null,
      "outputs": [
        {
          "output_type": "execute_result",
          "data": {
            "text/plain": [
              "<tf.Variable 'Variable:0' shape=(2,) dtype=int32, numpy=array([10,  7], dtype=int32)>"
            ]
          },
          "metadata": {},
          "execution_count": 27
        }
      ]
    },
    {
      "cell_type": "code",
      "source": [
        "changeable_tensor[0].assign(7)\n",
        "changeable_tensor"
      ],
      "metadata": {
        "id": "tUhKfuULC4uC",
        "colab": {
          "base_uri": "https://localhost:8080/"
        },
        "outputId": "257fdef8-76b9-40f0-dc7d-c57302635aa3"
      },
      "execution_count": null,
      "outputs": [
        {
          "output_type": "execute_result",
          "data": {
            "text/plain": [
              "<tf.Variable 'Variable:0' shape=(2,) dtype=int32, numpy=array([7, 7], dtype=int32)>"
            ]
          },
          "metadata": {},
          "execution_count": 28
        }
      ]
    },
    {
      "cell_type": "markdown",
      "source": [
        "# Creating Tensors"
      ],
      "metadata": {
        "id": "nRpd_E_IkBtT"
      }
    },
    {
      "cell_type": "markdown",
      "source": [
        "## Tensors of 1s and 0s"
      ],
      "metadata": {
        "id": "u5Kztlgmi7bi"
      }
    },
    {
      "cell_type": "code",
      "source": [
        "tf.ones([10,2,3])"
      ],
      "metadata": {
        "colab": {
          "base_uri": "https://localhost:8080/"
        },
        "id": "tdH6x-pnWhE7",
        "outputId": "f4761e26-824d-4148-e1e0-686051d27109"
      },
      "execution_count": null,
      "outputs": [
        {
          "output_type": "execute_result",
          "data": {
            "text/plain": [
              "<tf.Tensor: shape=(10, 2, 3), dtype=float32, numpy=\n",
              "array([[[1., 1., 1.],\n",
              "        [1., 1., 1.]],\n",
              "\n",
              "       [[1., 1., 1.],\n",
              "        [1., 1., 1.]],\n",
              "\n",
              "       [[1., 1., 1.],\n",
              "        [1., 1., 1.]],\n",
              "\n",
              "       [[1., 1., 1.],\n",
              "        [1., 1., 1.]],\n",
              "\n",
              "       [[1., 1., 1.],\n",
              "        [1., 1., 1.]],\n",
              "\n",
              "       [[1., 1., 1.],\n",
              "        [1., 1., 1.]],\n",
              "\n",
              "       [[1., 1., 1.],\n",
              "        [1., 1., 1.]],\n",
              "\n",
              "       [[1., 1., 1.],\n",
              "        [1., 1., 1.]],\n",
              "\n",
              "       [[1., 1., 1.],\n",
              "        [1., 1., 1.]],\n",
              "\n",
              "       [[1., 1., 1.],\n",
              "        [1., 1., 1.]]], dtype=float32)>"
            ]
          },
          "metadata": {},
          "execution_count": 29
        }
      ]
    },
    {
      "cell_type": "code",
      "source": [
        "tf.zeros(shape=(1))"
      ],
      "metadata": {
        "colab": {
          "base_uri": "https://localhost:8080/"
        },
        "id": "zNPJCfSJWo-L",
        "outputId": "67304c07-7bf4-4808-9982-7c12ca9e8ffa"
      },
      "execution_count": null,
      "outputs": [
        {
          "output_type": "execute_result",
          "data": {
            "text/plain": [
              "<tf.Tensor: shape=(1,), dtype=float32, numpy=array([0.], dtype=float32)>"
            ]
          },
          "metadata": {},
          "execution_count": 30
        }
      ]
    },
    {
      "cell_type": "markdown",
      "source": [
        "## Tensors from Numpy Arrays"
      ],
      "metadata": {
        "id": "wtm_EGAUjG__"
      }
    },
    {
      "cell_type": "code",
      "source": [
        "import numpy as np\n",
        "\n",
        "numpy_A = np.arange(1, 25, dtype=np.int32)\n",
        "numpy_A"
      ],
      "metadata": {
        "colab": {
          "base_uri": "https://localhost:8080/"
        },
        "id": "xFtgTJOiXB44",
        "outputId": "d202014e-06a6-4d57-aa47-bb6cc149469e"
      },
      "execution_count": null,
      "outputs": [
        {
          "output_type": "execute_result",
          "data": {
            "text/plain": [
              "array([ 1,  2,  3,  4,  5,  6,  7,  8,  9, 10, 11, 12, 13, 14, 15, 16, 17,\n",
              "       18, 19, 20, 21, 22, 23, 24], dtype=int32)"
            ]
          },
          "metadata": {},
          "execution_count": 31
        }
      ]
    },
    {
      "cell_type": "code",
      "source": [
        "A = tf.constant(numpy_A, shape=(2, 3, 4))\n",
        "B = tf.constant(numpy_A)\n",
        "A, B"
      ],
      "metadata": {
        "colab": {
          "base_uri": "https://localhost:8080/"
        },
        "id": "ArvL47NgXgWn",
        "outputId": "a092f01b-9263-4bd5-b490-de384b13f884"
      },
      "execution_count": null,
      "outputs": [
        {
          "output_type": "execute_result",
          "data": {
            "text/plain": [
              "(<tf.Tensor: shape=(2, 3, 4), dtype=int32, numpy=\n",
              " array([[[ 1,  2,  3,  4],\n",
              "         [ 5,  6,  7,  8],\n",
              "         [ 9, 10, 11, 12]],\n",
              " \n",
              "        [[13, 14, 15, 16],\n",
              "         [17, 18, 19, 20],\n",
              "         [21, 22, 23, 24]]], dtype=int32)>,\n",
              " <tf.Tensor: shape=(24,), dtype=int32, numpy=\n",
              " array([ 1,  2,  3,  4,  5,  6,  7,  8,  9, 10, 11, 12, 13, 14, 15, 16, 17,\n",
              "        18, 19, 20, 21, 22, 23, 24], dtype=int32)>)"
            ]
          },
          "metadata": {},
          "execution_count": 32
        }
      ]
    },
    {
      "cell_type": "code",
      "source": [
        "A.ndim"
      ],
      "metadata": {
        "colab": {
          "base_uri": "https://localhost:8080/"
        },
        "id": "5mv9DAPxYAY4",
        "outputId": "11e15c38-ce53-47e3-a1d1-6706296890eb"
      },
      "execution_count": null,
      "outputs": [
        {
          "output_type": "execute_result",
          "data": {
            "text/plain": [
              "3"
            ]
          },
          "metadata": {},
          "execution_count": 33
        }
      ]
    },
    {
      "cell_type": "markdown",
      "source": [
        "# Random Tensors and Shuffling"
      ],
      "metadata": {
        "id": "dlCir1udVuUE"
      }
    },
    {
      "cell_type": "code",
      "source": [
        "random_1 = tf.random.Generator.from_seed(42)\n",
        "random_1 = random_1.normal(shape=(3,2))\n",
        "random_2 = tf.random.Generator.from_seed(42)\n",
        "random_2 = random_2.normal(shape=(3,2))\n",
        "random_1, random_2, random_1 == random_2"
      ],
      "metadata": {
        "colab": {
          "base_uri": "https://localhost:8080/"
        },
        "outputId": "1b132e4d-9cd1-40c1-bda0-59e0f7ad9443",
        "id": "iHrbVbbzVso1"
      },
      "execution_count": null,
      "outputs": [
        {
          "output_type": "execute_result",
          "data": {
            "text/plain": [
              "(<tf.Tensor: shape=(3, 2), dtype=float32, numpy=\n",
              " array([[-0.7565803 , -0.06854702],\n",
              "        [ 0.07595026, -1.2573844 ],\n",
              "        [-0.23193765, -1.8107855 ]], dtype=float32)>,\n",
              " <tf.Tensor: shape=(3, 2), dtype=float32, numpy=\n",
              " array([[-0.7565803 , -0.06854702],\n",
              "        [ 0.07595026, -1.2573844 ],\n",
              "        [-0.23193765, -1.8107855 ]], dtype=float32)>,\n",
              " <tf.Tensor: shape=(3, 2), dtype=bool, numpy=\n",
              " array([[ True,  True],\n",
              "        [ True,  True],\n",
              "        [ True,  True]])>)"
            ]
          },
          "metadata": {},
          "execution_count": 34
        }
      ]
    },
    {
      "cell_type": "code",
      "source": [
        "not_shuffled = tf.constant([[10,2],\n",
        "                            [3,5],\n",
        "                            [1,7]])\n",
        "tf.random.shuffle(not_shuffled)"
      ],
      "metadata": {
        "colab": {
          "base_uri": "https://localhost:8080/"
        },
        "id": "EIrfE4AqVso1",
        "outputId": "eaa5175b-2249-4436-9557-8bb555bab8de"
      },
      "execution_count": null,
      "outputs": [
        {
          "output_type": "execute_result",
          "data": {
            "text/plain": [
              "<tf.Tensor: shape=(3, 2), dtype=int32, numpy=\n",
              "array([[10,  2],\n",
              "       [ 3,  5],\n",
              "       [ 1,  7]], dtype=int32)>"
            ]
          },
          "metadata": {},
          "execution_count": 35
        }
      ]
    },
    {
      "cell_type": "markdown",
      "source": [
        "# Manipulating Tensors\n",
        "## Getting Info from Tensors"
      ],
      "metadata": {
        "id": "9kyXMSEmjQ5N"
      }
    },
    {
      "cell_type": "code",
      "source": [
        "rank_4_tensor = tf.zeros(shape=[2,3,4,5])\n",
        "rank_4_tensor"
      ],
      "metadata": {
        "colab": {
          "base_uri": "https://localhost:8080/"
        },
        "id": "znFmeH9SWveI",
        "outputId": "05c44729-7f74-4529-b3e5-9dc4db8f0579"
      },
      "execution_count": null,
      "outputs": [
        {
          "output_type": "execute_result",
          "data": {
            "text/plain": [
              "<tf.Tensor: shape=(2, 3, 4, 5), dtype=float32, numpy=\n",
              "array([[[[0., 0., 0., 0., 0.],\n",
              "         [0., 0., 0., 0., 0.],\n",
              "         [0., 0., 0., 0., 0.],\n",
              "         [0., 0., 0., 0., 0.]],\n",
              "\n",
              "        [[0., 0., 0., 0., 0.],\n",
              "         [0., 0., 0., 0., 0.],\n",
              "         [0., 0., 0., 0., 0.],\n",
              "         [0., 0., 0., 0., 0.]],\n",
              "\n",
              "        [[0., 0., 0., 0., 0.],\n",
              "         [0., 0., 0., 0., 0.],\n",
              "         [0., 0., 0., 0., 0.],\n",
              "         [0., 0., 0., 0., 0.]]],\n",
              "\n",
              "\n",
              "       [[[0., 0., 0., 0., 0.],\n",
              "         [0., 0., 0., 0., 0.],\n",
              "         [0., 0., 0., 0., 0.],\n",
              "         [0., 0., 0., 0., 0.]],\n",
              "\n",
              "        [[0., 0., 0., 0., 0.],\n",
              "         [0., 0., 0., 0., 0.],\n",
              "         [0., 0., 0., 0., 0.],\n",
              "         [0., 0., 0., 0., 0.]],\n",
              "\n",
              "        [[0., 0., 0., 0., 0.],\n",
              "         [0., 0., 0., 0., 0.],\n",
              "         [0., 0., 0., 0., 0.],\n",
              "         [0., 0., 0., 0., 0.]]]], dtype=float32)>"
            ]
          },
          "metadata": {},
          "execution_count": 36
        }
      ]
    },
    {
      "cell_type": "code",
      "source": [
        "rank_4_tensor.shape, rank_4_tensor.ndim, tf.size(rank_4_tensor)"
      ],
      "metadata": {
        "colab": {
          "base_uri": "https://localhost:8080/"
        },
        "id": "d14JRbqSZKjM",
        "outputId": "d0148ce7-e0cf-4e34-cf2c-402ef9098eaa"
      },
      "execution_count": null,
      "outputs": [
        {
          "output_type": "execute_result",
          "data": {
            "text/plain": [
              "(TensorShape([2, 3, 4, 5]), 4, <tf.Tensor: shape=(), dtype=int32, numpy=120>)"
            ]
          },
          "metadata": {},
          "execution_count": 37
        }
      ]
    },
    {
      "cell_type": "code",
      "source": [
        "print(\"Datatype of every element: \", rank_4_tensor.dtype)\n",
        "print(\"Number of dimensions: \", rank_4_tensor.ndim)\n",
        "print(\"Shape of the tensor: \", rank_4_tensor.shape)\n",
        "print(\"Elements along the 0 axis: \", rank_4_tensor.shape[0])\n",
        "print(\"Elements along the last axis: \", rank_4_tensor.shape[-1])\n",
        "print(\"Total number of elements in out tensor: \", tf.size(rank_4_tensor))\n",
        "\n"
      ],
      "metadata": {
        "colab": {
          "base_uri": "https://localhost:8080/"
        },
        "id": "1P_tXl1VaYqV",
        "outputId": "6f8fd133-ae83-400b-c860-56833d4fb4f6"
      },
      "execution_count": null,
      "outputs": [
        {
          "output_type": "stream",
          "name": "stdout",
          "text": [
            "Datatype of every element:  <dtype: 'float32'>\n",
            "Number of dimensions:  4\n",
            "Shape of the tensor:  (2, 3, 4, 5)\n",
            "Elements along the 0 axis:  2\n",
            "Elements along the last axis:  5\n",
            "Total number of elements in out tensor:  tf.Tensor(120, shape=(), dtype=int32)\n"
          ]
        }
      ]
    },
    {
      "cell_type": "markdown",
      "source": [
        "## Indexing and Slicing"
      ],
      "metadata": {
        "id": "ERFMxL3ujWGP"
      }
    },
    {
      "cell_type": "code",
      "source": [
        "rank_4_tensor[:2, :2, :2, :2]"
      ],
      "metadata": {
        "colab": {
          "base_uri": "https://localhost:8080/"
        },
        "id": "hrwGgs53cvjT",
        "outputId": "9e0727d5-6c34-43eb-8689-301dbd9d50b7"
      },
      "execution_count": null,
      "outputs": [
        {
          "output_type": "execute_result",
          "data": {
            "text/plain": [
              "<tf.Tensor: shape=(2, 2, 2, 2), dtype=float32, numpy=\n",
              "array([[[[0., 0.],\n",
              "         [0., 0.]],\n",
              "\n",
              "        [[0., 0.],\n",
              "         [0., 0.]]],\n",
              "\n",
              "\n",
              "       [[[0., 0.],\n",
              "         [0., 0.]],\n",
              "\n",
              "        [[0., 0.],\n",
              "         [0., 0.]]]], dtype=float32)>"
            ]
          },
          "metadata": {},
          "execution_count": 39
        }
      ]
    },
    {
      "cell_type": "code",
      "source": [
        "rank_4_tensor[:1, :1, :1, :]"
      ],
      "metadata": {
        "colab": {
          "base_uri": "https://localhost:8080/"
        },
        "id": "4nYdlQLAc0mE",
        "outputId": "8608e3ea-c32e-45d6-a6fa-3620bc5b2a95"
      },
      "execution_count": null,
      "outputs": [
        {
          "output_type": "execute_result",
          "data": {
            "text/plain": [
              "<tf.Tensor: shape=(1, 1, 1, 5), dtype=float32, numpy=array([[[[0., 0., 0., 0., 0.]]]], dtype=float32)>"
            ]
          },
          "metadata": {},
          "execution_count": 40
        }
      ]
    },
    {
      "cell_type": "code",
      "source": [
        "rank_2_tensor = tf.constant([[10,7],\n",
        "                             [3,4]])\n",
        "rank_2_tensor.shape, rank_2_tensor.ndim"
      ],
      "metadata": {
        "colab": {
          "base_uri": "https://localhost:8080/"
        },
        "id": "81H-2TQadKmk",
        "outputId": "2ffb6562-a0a3-4e7d-f85f-3bec5ef7cfe8"
      },
      "execution_count": null,
      "outputs": [
        {
          "output_type": "execute_result",
          "data": {
            "text/plain": [
              "(TensorShape([2, 2]), 2)"
            ]
          },
          "metadata": {},
          "execution_count": 41
        }
      ]
    },
    {
      "cell_type": "code",
      "source": [
        "rank_2_tensor"
      ],
      "metadata": {
        "colab": {
          "base_uri": "https://localhost:8080/"
        },
        "id": "PEw9H9w1dYuz",
        "outputId": "ecaee101-b76d-4588-927e-1aaf7b6856b4"
      },
      "execution_count": null,
      "outputs": [
        {
          "output_type": "execute_result",
          "data": {
            "text/plain": [
              "<tf.Tensor: shape=(2, 2), dtype=int32, numpy=\n",
              "array([[10,  7],\n",
              "       [ 3,  4]], dtype=int32)>"
            ]
          },
          "metadata": {},
          "execution_count": 42
        }
      ]
    },
    {
      "cell_type": "code",
      "source": [
        "rank_2_tensor[:,-1]"
      ],
      "metadata": {
        "colab": {
          "base_uri": "https://localhost:8080/"
        },
        "id": "VfFQFrArdagn",
        "outputId": "e27b2c32-d488-4927-ccda-5606762e64c5"
      },
      "execution_count": null,
      "outputs": [
        {
          "output_type": "execute_result",
          "data": {
            "text/plain": [
              "<tf.Tensor: shape=(2,), dtype=int32, numpy=array([7, 4], dtype=int32)>"
            ]
          },
          "metadata": {},
          "execution_count": 43
        }
      ]
    },
    {
      "cell_type": "markdown",
      "source": [
        "## Reshaping Tensors"
      ],
      "metadata": {
        "id": "A9Q5vpQKuyfJ"
      }
    },
    {
      "cell_type": "code",
      "source": [
        "rank_2_tensor"
      ],
      "metadata": {
        "colab": {
          "base_uri": "https://localhost:8080/"
        },
        "id": "_e-Hip67vXuj",
        "outputId": "5aab1f81-f3c1-4aa1-e102-6de1676510ca"
      },
      "execution_count": null,
      "outputs": [
        {
          "output_type": "execute_result",
          "data": {
            "text/plain": [
              "<tf.Tensor: shape=(2, 2), dtype=int32, numpy=\n",
              "array([[10,  7],\n",
              "       [ 3,  4]], dtype=int32)>"
            ]
          },
          "metadata": {},
          "execution_count": 44
        }
      ]
    },
    {
      "cell_type": "markdown",
      "source": [
        "### Add new dimension"
      ],
      "metadata": {
        "id": "H6iiCcs1Ha1l"
      }
    },
    {
      "cell_type": "code",
      "source": [
        "rank_3_tensor = rank_2_tensor[..., tf.newaxis]\n",
        "rank_3_tensor"
      ],
      "metadata": {
        "colab": {
          "base_uri": "https://localhost:8080/"
        },
        "outputId": "520d4a27-465e-48eb-ad53-01fe5b713360",
        "id": "TQd3iP3JvAOW"
      },
      "execution_count": null,
      "outputs": [
        {
          "output_type": "execute_result",
          "data": {
            "text/plain": [
              "<tf.Tensor: shape=(2, 2, 1), dtype=int32, numpy=\n",
              "array([[[10],\n",
              "        [ 7]],\n",
              "\n",
              "       [[ 3],\n",
              "        [ 4]]], dtype=int32)>"
            ]
          },
          "metadata": {},
          "execution_count": 45
        }
      ]
    },
    {
      "cell_type": "code",
      "source": [
        "tf.expand_dims(rank_2_tensor, axis=-1)"
      ],
      "metadata": {
        "colab": {
          "base_uri": "https://localhost:8080/"
        },
        "outputId": "a28dfe93-86c3-493d-a6f3-af25aeec79ff",
        "id": "0VVugejYvAOX"
      },
      "execution_count": null,
      "outputs": [
        {
          "output_type": "execute_result",
          "data": {
            "text/plain": [
              "<tf.Tensor: shape=(2, 2, 1), dtype=int32, numpy=\n",
              "array([[[10],\n",
              "        [ 7]],\n",
              "\n",
              "       [[ 3],\n",
              "        [ 4]]], dtype=int32)>"
            ]
          },
          "metadata": {},
          "execution_count": 46
        }
      ]
    },
    {
      "cell_type": "markdown",
      "source": [
        "### Change the shape"
      ],
      "metadata": {
        "id": "7BmxtPoKHjLV"
      }
    },
    {
      "cell_type": "code",
      "source": [
        "tf.reshape(rank_2_tensor, shape=(2,2,1))"
      ],
      "metadata": {
        "colab": {
          "base_uri": "https://localhost:8080/"
        },
        "id": "xqGxDbVPvJWZ",
        "outputId": "a20fc861-09d7-4fb0-8eb9-2609fd7a244d"
      },
      "execution_count": null,
      "outputs": [
        {
          "output_type": "execute_result",
          "data": {
            "text/plain": [
              "<tf.Tensor: shape=(2, 2, 1), dtype=int32, numpy=\n",
              "array([[[10],\n",
              "        [ 7]],\n",
              "\n",
              "       [[ 3],\n",
              "        [ 4]]], dtype=int32)>"
            ]
          },
          "metadata": {},
          "execution_count": 47
        }
      ]
    },
    {
      "cell_type": "code",
      "source": [
        "tf.reshape(rank_2_tensor, shape=(4))"
      ],
      "metadata": {
        "colab": {
          "base_uri": "https://localhost:8080/"
        },
        "id": "eqLk19w6Hp70",
        "outputId": "af7220cf-de02-428e-dda8-0b903a4a1652"
      },
      "execution_count": null,
      "outputs": [
        {
          "output_type": "execute_result",
          "data": {
            "text/plain": [
              "<tf.Tensor: shape=(4,), dtype=int32, numpy=array([10,  7,  3,  4], dtype=int32)>"
            ]
          },
          "metadata": {},
          "execution_count": 48
        }
      ]
    },
    {
      "cell_type": "markdown",
      "source": [
        "### Squeeze a tensor"
      ],
      "metadata": {
        "id": "SkJTMK9gH7tV"
      }
    },
    {
      "cell_type": "code",
      "source": [
        "tf.random.set_seed(42)\n",
        "G = tf.random.uniform(shape=[1, 1, 1, 1, 50])\n",
        "G"
      ],
      "metadata": {
        "colab": {
          "base_uri": "https://localhost:8080/"
        },
        "id": "LS8Nnbq4IDBw",
        "outputId": "dfd26a54-4919-4a7c-f193-5f7edef194c3"
      },
      "execution_count": null,
      "outputs": [
        {
          "output_type": "execute_result",
          "data": {
            "text/plain": [
              "<tf.Tensor: shape=(1, 1, 1, 1, 50), dtype=float32, numpy=\n",
              "array([[[[[0.6645621 , 0.44100678, 0.3528825 , 0.46448255, 0.03366041,\n",
              "           0.68467236, 0.74011743, 0.8724445 , 0.22632635, 0.22319686,\n",
              "           0.3103881 , 0.7223358 , 0.13318717, 0.5480639 , 0.5746088 ,\n",
              "           0.8996835 , 0.00946367, 0.5212307 , 0.6345445 , 0.1993283 ,\n",
              "           0.72942245, 0.54583454, 0.10756552, 0.6767061 , 0.6602763 ,\n",
              "           0.33695042, 0.60141766, 0.21062577, 0.8527372 , 0.44062173,\n",
              "           0.9485276 , 0.23752594, 0.81179297, 0.5263394 , 0.494308  ,\n",
              "           0.21612847, 0.8457197 , 0.8718841 , 0.3083862 , 0.6868038 ,\n",
              "           0.23764038, 0.7817228 , 0.9671384 , 0.06870162, 0.79873943,\n",
              "           0.66028714, 0.5871513 , 0.16461694, 0.7381023 , 0.32054043]]]]],\n",
              "      dtype=float32)>"
            ]
          },
          "metadata": {},
          "execution_count": 49
        }
      ]
    },
    {
      "cell_type": "code",
      "source": [
        "G.shape"
      ],
      "metadata": {
        "colab": {
          "base_uri": "https://localhost:8080/"
        },
        "id": "GxPJGYIPIZSg",
        "outputId": "0c0d62b1-caf0-40ee-ab68-eb7a12b83e16"
      },
      "execution_count": null,
      "outputs": [
        {
          "output_type": "execute_result",
          "data": {
            "text/plain": [
              "TensorShape([1, 1, 1, 1, 50])"
            ]
          },
          "metadata": {},
          "execution_count": 50
        }
      ]
    },
    {
      "cell_type": "code",
      "source": [
        "G_squeezed = tf.squeeze(G)\n",
        "G_squeezed, G_squeezed.shape"
      ],
      "metadata": {
        "colab": {
          "base_uri": "https://localhost:8080/"
        },
        "id": "-RGG6H-WIazQ",
        "outputId": "64e64369-17b3-4c75-e723-36bccda05840"
      },
      "execution_count": null,
      "outputs": [
        {
          "output_type": "execute_result",
          "data": {
            "text/plain": [
              "(<tf.Tensor: shape=(50,), dtype=float32, numpy=\n",
              " array([0.6645621 , 0.44100678, 0.3528825 , 0.46448255, 0.03366041,\n",
              "        0.68467236, 0.74011743, 0.8724445 , 0.22632635, 0.22319686,\n",
              "        0.3103881 , 0.7223358 , 0.13318717, 0.5480639 , 0.5746088 ,\n",
              "        0.8996835 , 0.00946367, 0.5212307 , 0.6345445 , 0.1993283 ,\n",
              "        0.72942245, 0.54583454, 0.10756552, 0.6767061 , 0.6602763 ,\n",
              "        0.33695042, 0.60141766, 0.21062577, 0.8527372 , 0.44062173,\n",
              "        0.9485276 , 0.23752594, 0.81179297, 0.5263394 , 0.494308  ,\n",
              "        0.21612847, 0.8457197 , 0.8718841 , 0.3083862 , 0.6868038 ,\n",
              "        0.23764038, 0.7817228 , 0.9671384 , 0.06870162, 0.79873943,\n",
              "        0.66028714, 0.5871513 , 0.16461694, 0.7381023 , 0.32054043],\n",
              "       dtype=float32)>,\n",
              " TensorShape([50]))"
            ]
          },
          "metadata": {},
          "execution_count": 51
        }
      ]
    },
    {
      "cell_type": "markdown",
      "source": [
        "## Tensor operations\n"
      ],
      "metadata": {
        "id": "MumI3M4Afi4V"
      }
    },
    {
      "cell_type": "markdown",
      "source": [
        "### Python built-in operations"
      ],
      "metadata": {
        "id": "-aW1aTPfqEnq"
      }
    },
    {
      "cell_type": "code",
      "source": [
        "tensor = tf.constant([[10,7],\n",
        "                      [3,4]])\n",
        "tensor + 10, tensor * 10, tensor - 10"
      ],
      "metadata": {
        "colab": {
          "base_uri": "https://localhost:8080/"
        },
        "id": "EosaDoFFetnD",
        "outputId": "43f72951-787a-4484-8d93-578114de00dd"
      },
      "execution_count": null,
      "outputs": [
        {
          "output_type": "execute_result",
          "data": {
            "text/plain": [
              "(<tf.Tensor: shape=(2, 2), dtype=int32, numpy=\n",
              " array([[20, 17],\n",
              "        [13, 14]], dtype=int32)>,\n",
              " <tf.Tensor: shape=(2, 2), dtype=int32, numpy=\n",
              " array([[100,  70],\n",
              "        [ 30,  40]], dtype=int32)>,\n",
              " <tf.Tensor: shape=(2, 2), dtype=int32, numpy=\n",
              " array([[ 0, -3],\n",
              "        [-7, -6]], dtype=int32)>)"
            ]
          },
          "metadata": {},
          "execution_count": 52
        }
      ]
    },
    {
      "cell_type": "markdown",
      "source": [
        "**Element-wise multiplication**"
      ],
      "metadata": {
        "id": "qyWEgWRDqQN-"
      }
    },
    {
      "cell_type": "code",
      "source": [
        "tensor * tensor"
      ],
      "metadata": {
        "colab": {
          "base_uri": "https://localhost:8080/"
        },
        "outputId": "98483a57-56ec-4302-c6ae-4d0445cd2f61",
        "id": "rgIRi_J3qQN_"
      },
      "execution_count": null,
      "outputs": [
        {
          "output_type": "execute_result",
          "data": {
            "text/plain": [
              "<tf.Tensor: shape=(2, 2), dtype=int32, numpy=\n",
              "array([[100,  49],\n",
              "       [  9,  16]], dtype=int32)>"
            ]
          },
          "metadata": {},
          "execution_count": 53
        }
      ]
    },
    {
      "cell_type": "markdown",
      "source": [
        "**Matrix multiplication**"
      ],
      "metadata": {
        "id": "jFoxhsyDqQN_"
      }
    },
    {
      "cell_type": "code",
      "source": [
        "tensor @ tensor"
      ],
      "metadata": {
        "colab": {
          "base_uri": "https://localhost:8080/"
        },
        "outputId": "a5d5283e-a144-4ebc-e6b7-09271897bfae",
        "id": "3SwpblizqQN_"
      },
      "execution_count": null,
      "outputs": [
        {
          "output_type": "execute_result",
          "data": {
            "text/plain": [
              "<tf.Tensor: shape=(2, 2), dtype=int32, numpy=\n",
              "array([[121,  98],\n",
              "       [ 42,  37]], dtype=int32)>"
            ]
          },
          "metadata": {},
          "execution_count": 54
        }
      ]
    },
    {
      "cell_type": "markdown",
      "source": [
        "### Tensorflow built-in operations"
      ],
      "metadata": {
        "id": "CRdulL-NfxMl"
      }
    },
    {
      "cell_type": "code",
      "source": [
        "tf.add(tensor, 10)"
      ],
      "metadata": {
        "colab": {
          "base_uri": "https://localhost:8080/"
        },
        "id": "TMMHcBgAf4bj",
        "outputId": "b9a0f5eb-33ea-46c6-e116-f98595bea895"
      },
      "execution_count": null,
      "outputs": [
        {
          "output_type": "execute_result",
          "data": {
            "text/plain": [
              "<tf.Tensor: shape=(2, 2), dtype=int32, numpy=\n",
              "array([[20, 17],\n",
              "       [13, 14]], dtype=int32)>"
            ]
          },
          "metadata": {},
          "execution_count": 55
        }
      ]
    },
    {
      "cell_type": "markdown",
      "source": [
        "**Element-wise multiplication**"
      ],
      "metadata": {
        "id": "RNl0Z_o8qqWP"
      }
    },
    {
      "cell_type": "code",
      "source": [
        "tf.multiply(tensor, 10)"
      ],
      "metadata": {
        "colab": {
          "base_uri": "https://localhost:8080/"
        },
        "id": "rcGfyltUfJAx",
        "outputId": "906d3fd7-ba66-47ae-cf63-254c5501d5dc"
      },
      "execution_count": null,
      "outputs": [
        {
          "output_type": "execute_result",
          "data": {
            "text/plain": [
              "<tf.Tensor: shape=(2, 2), dtype=int32, numpy=\n",
              "array([[100,  70],\n",
              "       [ 30,  40]], dtype=int32)>"
            ]
          },
          "metadata": {},
          "execution_count": 56
        }
      ]
    },
    {
      "cell_type": "code",
      "source": [
        "tf.multiply(tensor, tensor)"
      ],
      "metadata": {
        "colab": {
          "base_uri": "https://localhost:8080/"
        },
        "id": "NMRFMOkBqa6Y",
        "outputId": "5a8afc6a-a875-48bf-f7cf-9df49a6f6b2c"
      },
      "execution_count": null,
      "outputs": [
        {
          "output_type": "execute_result",
          "data": {
            "text/plain": [
              "<tf.Tensor: shape=(2, 2), dtype=int32, numpy=\n",
              "array([[100,  49],\n",
              "       [  9,  16]], dtype=int32)>"
            ]
          },
          "metadata": {},
          "execution_count": 57
        }
      ]
    },
    {
      "cell_type": "markdown",
      "source": [
        "**Matrix multiplication**"
      ],
      "metadata": {
        "id": "LvPgnC7QqqWQ"
      }
    },
    {
      "cell_type": "code",
      "source": [
        "tf.matmul(tensor, tensor)"
      ],
      "metadata": {
        "colab": {
          "base_uri": "https://localhost:8080/"
        },
        "id": "emax6c7lgH-T",
        "outputId": "5fd3bba6-cc4a-4810-f7fd-bfe8af12c9fe"
      },
      "execution_count": null,
      "outputs": [
        {
          "output_type": "execute_result",
          "data": {
            "text/plain": [
              "<tf.Tensor: shape=(2, 2), dtype=int32, numpy=\n",
              "array([[121,  98],\n",
              "       [ 42,  37]], dtype=int32)>"
            ]
          },
          "metadata": {},
          "execution_count": 108
        }
      ]
    },
    {
      "cell_type": "markdown",
      "source": [
        "**Squaring, log, square root, ...**"
      ],
      "metadata": {
        "id": "v6cyS-VzSSVd"
      }
    },
    {
      "cell_type": "code",
      "source": [
        "H = tf.range(1,10)\n",
        "H"
      ],
      "metadata": {
        "colab": {
          "base_uri": "https://localhost:8080/"
        },
        "outputId": "fc006162-b20a-474f-dab7-aa126f8bb710",
        "id": "8YoUu-8rSSVe"
      },
      "execution_count": null,
      "outputs": [
        {
          "output_type": "execute_result",
          "data": {
            "text/plain": [
              "<tf.Tensor: shape=(9,), dtype=int32, numpy=array([1, 2, 3, 4, 5, 6, 7, 8, 9], dtype=int32)>"
            ]
          },
          "metadata": {},
          "execution_count": 59
        }
      ]
    },
    {
      "cell_type": "code",
      "source": [
        "tf.square(H)"
      ],
      "metadata": {
        "colab": {
          "base_uri": "https://localhost:8080/"
        },
        "outputId": "f40d4867-1b10-42e0-bcec-4a998ceebcda",
        "id": "XlueSOE0SSVe"
      },
      "execution_count": null,
      "outputs": [
        {
          "output_type": "execute_result",
          "data": {
            "text/plain": [
              "<tf.Tensor: shape=(9,), dtype=int32, numpy=array([ 1,  4,  9, 16, 25, 36, 49, 64, 81], dtype=int32)>"
            ]
          },
          "metadata": {},
          "execution_count": 60
        }
      ]
    },
    {
      "cell_type": "code",
      "source": [
        "tf.sqrt(tf.cast(H, dtype=tf.float32))"
      ],
      "metadata": {
        "colab": {
          "base_uri": "https://localhost:8080/"
        },
        "outputId": "ae047adf-f906-411e-e662-4d9f9fa149d4",
        "id": "TbVWycwSSSVe"
      },
      "execution_count": null,
      "outputs": [
        {
          "output_type": "execute_result",
          "data": {
            "text/plain": [
              "<tf.Tensor: shape=(9,), dtype=float32, numpy=\n",
              "array([1.       , 1.4142135, 1.7320508, 2.       , 2.2360678, 2.4494896,\n",
              "       2.6457512, 2.828427 , 3.       ], dtype=float32)>"
            ]
          },
          "metadata": {},
          "execution_count": 61
        }
      ]
    },
    {
      "cell_type": "code",
      "source": [
        "tf.math.log(tf.cast(H, dtype=tf.float32))"
      ],
      "metadata": {
        "colab": {
          "base_uri": "https://localhost:8080/"
        },
        "outputId": "c201a645-02ca-485c-d744-d05a0cfc7447",
        "id": "X6A1rW7qSSVf"
      },
      "execution_count": null,
      "outputs": [
        {
          "output_type": "execute_result",
          "data": {
            "text/plain": [
              "<tf.Tensor: shape=(9,), dtype=float32, numpy=\n",
              "array([0.       , 0.6931472, 1.0986123, 1.3862944, 1.609438 , 1.7917595,\n",
              "       1.9459102, 2.0794415, 2.1972246], dtype=float32)>"
            ]
          },
          "metadata": {},
          "execution_count": 62
        }
      ]
    },
    {
      "cell_type": "markdown",
      "source": [
        "### Matrix Multiplication"
      ],
      "metadata": {
        "id": "0cWYFIcsgDBj"
      }
    },
    {
      "cell_type": "code",
      "source": [
        "X = tf.constant([[1,2],\n",
        "                [3,4],\n",
        "                [5,6]])\n",
        "Y = tf.constant([[11,22],\n",
        "                [33,44],\n",
        "                [55,66]])"
      ],
      "metadata": {
        "id": "iErCd73Wq8XM"
      },
      "execution_count": null,
      "outputs": []
    },
    {
      "cell_type": "code",
      "source": [
        "tf.matmul(X,tf.transpose(Y)), tf.matmul(tf.transpose(X),Y)"
      ],
      "metadata": {
        "colab": {
          "base_uri": "https://localhost:8080/"
        },
        "id": "p9De9LwCsLbZ",
        "outputId": "3a4e9393-8920-4a72-cdf2-118ee0934402"
      },
      "execution_count": null,
      "outputs": [
        {
          "output_type": "execute_result",
          "data": {
            "text/plain": [
              "(<tf.Tensor: shape=(3, 3), dtype=int32, numpy=\n",
              " array([[ 55, 121, 187],\n",
              "        [121, 275, 429],\n",
              "        [187, 429, 671]], dtype=int32)>,\n",
              " <tf.Tensor: shape=(2, 2), dtype=int32, numpy=\n",
              " array([[385, 484],\n",
              "        [484, 616]], dtype=int32)>)"
            ]
          },
          "metadata": {},
          "execution_count": 64
        }
      ]
    },
    {
      "cell_type": "code",
      "source": [
        "tf.matmul(X,tf.reshape(Y, shape=(2,3))), tf.matmul(tf.reshape(X, shape=(2,3)),Y)"
      ],
      "metadata": {
        "colab": {
          "base_uri": "https://localhost:8080/"
        },
        "id": "uon4GrBEsRMm",
        "outputId": "8d823e87-b987-43f1-93d3-b7926dba7ecc"
      },
      "execution_count": null,
      "outputs": [
        {
          "output_type": "execute_result",
          "data": {
            "text/plain": [
              "(<tf.Tensor: shape=(3, 3), dtype=int32, numpy=\n",
              " array([[ 99, 132, 165],\n",
              "        [209, 286, 363],\n",
              "        [319, 440, 561]], dtype=int32)>,\n",
              " <tf.Tensor: shape=(2, 2), dtype=int32, numpy=\n",
              " array([[242, 308],\n",
              "        [539, 704]], dtype=int32)>)"
            ]
          },
          "metadata": {},
          "execution_count": 65
        }
      ]
    },
    {
      "cell_type": "markdown",
      "source": [
        "### Dot Product"
      ],
      "metadata": {
        "id": "GVDdfJKjtRYF"
      }
    },
    {
      "cell_type": "code",
      "source": [
        "X, Y"
      ],
      "metadata": {
        "colab": {
          "base_uri": "https://localhost:8080/"
        },
        "id": "ZNLAdL1hthFl",
        "outputId": "0ac7795a-6507-4f65-afef-4e35d1e8d5b6"
      },
      "execution_count": null,
      "outputs": [
        {
          "output_type": "execute_result",
          "data": {
            "text/plain": [
              "(<tf.Tensor: shape=(3, 2), dtype=int32, numpy=\n",
              " array([[1, 2],\n",
              "        [3, 4],\n",
              "        [5, 6]], dtype=int32)>,\n",
              " <tf.Tensor: shape=(3, 2), dtype=int32, numpy=\n",
              " array([[11, 22],\n",
              "        [33, 44],\n",
              "        [55, 66]], dtype=int32)>)"
            ]
          },
          "metadata": {},
          "execution_count": 66
        }
      ]
    },
    {
      "cell_type": "code",
      "source": [
        "tf.tensordot(X, tf.transpose(Y), axes=1), tf.tensordot(tf.transpose(X), Y, axes=1)"
      ],
      "metadata": {
        "colab": {
          "base_uri": "https://localhost:8080/"
        },
        "id": "xie4_GjwtjR3",
        "outputId": "a63275bb-1a50-4bb1-c18e-1b2b7051a4c9"
      },
      "execution_count": null,
      "outputs": [
        {
          "output_type": "execute_result",
          "data": {
            "text/plain": [
              "(<tf.Tensor: shape=(3, 3), dtype=int32, numpy=\n",
              " array([[ 55, 121, 187],\n",
              "        [121, 275, 429],\n",
              "        [187, 429, 671]], dtype=int32)>,\n",
              " <tf.Tensor: shape=(2, 2), dtype=int32, numpy=\n",
              " array([[385, 484],\n",
              "        [484, 616]], dtype=int32)>)"
            ]
          },
          "metadata": {},
          "execution_count": 67
        }
      ]
    },
    {
      "cell_type": "markdown",
      "source": [
        "## Changing DataTypes"
      ],
      "metadata": {
        "id": "71SksgWZ0tIQ"
      }
    },
    {
      "cell_type": "code",
      "source": [
        "B = tf.constant([1.7, 1.4])\n",
        "B.dtype"
      ],
      "metadata": {
        "colab": {
          "base_uri": "https://localhost:8080/"
        },
        "id": "RPSAPV_g0xsP",
        "outputId": "537a768b-3514-4850-b993-0545c7bf4a76"
      },
      "execution_count": null,
      "outputs": [
        {
          "output_type": "execute_result",
          "data": {
            "text/plain": [
              "tf.float32"
            ]
          },
          "metadata": {},
          "execution_count": 68
        }
      ]
    },
    {
      "cell_type": "code",
      "source": [
        "C = tf.constant([7, 10])\n",
        "C.dtype"
      ],
      "metadata": {
        "colab": {
          "base_uri": "https://localhost:8080/"
        },
        "id": "JZv5O0BQ1MeG",
        "outputId": "a72d52c3-54f4-4200-ea15-47398ca311e9"
      },
      "execution_count": null,
      "outputs": [
        {
          "output_type": "execute_result",
          "data": {
            "text/plain": [
              "tf.int32"
            ]
          },
          "metadata": {},
          "execution_count": 69
        }
      ]
    },
    {
      "cell_type": "code",
      "source": [
        "D = tf.cast(B, dtype=tf.float16)\n",
        "D"
      ],
      "metadata": {
        "colab": {
          "base_uri": "https://localhost:8080/"
        },
        "id": "2tXL6LGw022E",
        "outputId": "3c42d6cf-a0ca-4d74-8dfd-81832d4db28b"
      },
      "execution_count": null,
      "outputs": [
        {
          "output_type": "execute_result",
          "data": {
            "text/plain": [
              "<tf.Tensor: shape=(2,), dtype=float16, numpy=array([1.7, 1.4], dtype=float16)>"
            ]
          },
          "metadata": {},
          "execution_count": 70
        }
      ]
    },
    {
      "cell_type": "code",
      "source": [
        "E = tf.cast(C, dtype=tf.float32)\n",
        "E"
      ],
      "metadata": {
        "colab": {
          "base_uri": "https://localhost:8080/"
        },
        "id": "G36gSS9O1pZE",
        "outputId": "ff6c100e-84f2-40a9-a8ef-f230fedad23a"
      },
      "execution_count": null,
      "outputs": [
        {
          "output_type": "execute_result",
          "data": {
            "text/plain": [
              "<tf.Tensor: shape=(2,), dtype=float32, numpy=array([ 7., 10.], dtype=float32)>"
            ]
          },
          "metadata": {},
          "execution_count": 71
        }
      ]
    },
    {
      "cell_type": "code",
      "source": [
        "E_float16 = tf.cast(E, dtype=tf.float16)\n",
        "E_float16"
      ],
      "metadata": {
        "colab": {
          "base_uri": "https://localhost:8080/"
        },
        "id": "t3A_aQIa2Fpv",
        "outputId": "a86113d8-b1f9-4c42-a12b-ef4fa08f50e0"
      },
      "execution_count": null,
      "outputs": [
        {
          "output_type": "execute_result",
          "data": {
            "text/plain": [
              "<tf.Tensor: shape=(2,), dtype=float16, numpy=array([ 7., 10.], dtype=float16)>"
            ]
          },
          "metadata": {},
          "execution_count": 72
        }
      ]
    },
    {
      "cell_type": "markdown",
      "source": [
        "# Aggreation functions on Tensors"
      ],
      "metadata": {
        "id": "in8IxvAm2NjH"
      }
    },
    {
      "cell_type": "code",
      "source": [
        "D = tf.constant([-7,-10])\n",
        "D"
      ],
      "metadata": {
        "colab": {
          "base_uri": "https://localhost:8080/"
        },
        "id": "8MmzLz2J2Rau",
        "outputId": "dd77f084-6022-4b61-92c8-15f3d6420b69"
      },
      "execution_count": null,
      "outputs": [
        {
          "output_type": "execute_result",
          "data": {
            "text/plain": [
              "<tf.Tensor: shape=(2,), dtype=int32, numpy=array([ -7, -10], dtype=int32)>"
            ]
          },
          "metadata": {},
          "execution_count": 73
        }
      ]
    },
    {
      "cell_type": "code",
      "source": [
        "tf.abs(D)"
      ],
      "metadata": {
        "colab": {
          "base_uri": "https://localhost:8080/"
        },
        "id": "gRYIS0dN38ho",
        "outputId": "ee8216e2-3d56-4f9c-f22c-3fdb9a7c8796"
      },
      "execution_count": null,
      "outputs": [
        {
          "output_type": "execute_result",
          "data": {
            "text/plain": [
              "<tf.Tensor: shape=(2,), dtype=int32, numpy=array([ 7, 10], dtype=int32)>"
            ]
          },
          "metadata": {},
          "execution_count": 74
        }
      ]
    },
    {
      "cell_type": "code",
      "source": [
        "E = tf.constant(np.random.randint(0,100, size=50))\n",
        "E"
      ],
      "metadata": {
        "colab": {
          "base_uri": "https://localhost:8080/"
        },
        "id": "v3ouXTDl4BP8",
        "outputId": "22cb8269-4163-4069-e333-2f07bc256bc5"
      },
      "execution_count": null,
      "outputs": [
        {
          "output_type": "execute_result",
          "data": {
            "text/plain": [
              "<tf.Tensor: shape=(50,), dtype=int64, numpy=\n",
              "array([23, 60, 74, 29, 24, 83, 93, 29, 72,  9, 11, 71, 63, 91, 72, 18, 80,\n",
              "       23, 70, 56, 47, 66, 14, 99,  8, 34, 57, 54, 68, 31, 68, 43, 39, 15,\n",
              "       38, 60, 62, 48, 44, 49, 57, 56, 56, 64, 73, 59, 96,  8, 35, 23])>"
            ]
          },
          "metadata": {},
          "execution_count": 75
        }
      ]
    },
    {
      "cell_type": "code",
      "source": [
        "tf.reduce_min(E), tf.reduce_max(E)"
      ],
      "metadata": {
        "colab": {
          "base_uri": "https://localhost:8080/"
        },
        "id": "CXh18nh44-5M",
        "outputId": "38bd1eae-2865-4734-bcef-d713afce5245"
      },
      "execution_count": null,
      "outputs": [
        {
          "output_type": "execute_result",
          "data": {
            "text/plain": [
              "(<tf.Tensor: shape=(), dtype=int64, numpy=8>,\n",
              " <tf.Tensor: shape=(), dtype=int64, numpy=99>)"
            ]
          },
          "metadata": {},
          "execution_count": 76
        }
      ]
    },
    {
      "cell_type": "code",
      "source": [
        "tf.reduce_sum(E), tf.reduce_mean(E)"
      ],
      "metadata": {
        "colab": {
          "base_uri": "https://localhost:8080/"
        },
        "id": "MMzugWWB5Hiz",
        "outputId": "29b8ed75-af6c-4e48-e0a7-daa8041e78d3"
      },
      "execution_count": null,
      "outputs": [
        {
          "output_type": "execute_result",
          "data": {
            "text/plain": [
              "(<tf.Tensor: shape=(), dtype=int64, numpy=2522>,\n",
              " <tf.Tensor: shape=(), dtype=int64, numpy=50>)"
            ]
          },
          "metadata": {},
          "execution_count": 77
        }
      ]
    },
    {
      "cell_type": "code",
      "source": [
        "tf.math.reduce_variance(tf.cast(E,dtype=tf.float32)), tf.math.reduce_std(tf.cast(E,dtype=tf.float32))"
      ],
      "metadata": {
        "colab": {
          "base_uri": "https://localhost:8080/"
        },
        "id": "xAVLgbyt5T-s",
        "outputId": "b303475d-ed72-49e4-e7ee-174ac8e35ee3"
      },
      "execution_count": null,
      "outputs": [
        {
          "output_type": "execute_result",
          "data": {
            "text/plain": [
              "(<tf.Tensor: shape=(), dtype=float32, numpy=601.6464>,\n",
              " <tf.Tensor: shape=(), dtype=float32, numpy=24.528482>)"
            ]
          },
          "metadata": {},
          "execution_count": 78
        }
      ]
    },
    {
      "cell_type": "code",
      "source": [
        "tf.random.set_seed(42)\n",
        "F = tf.random.uniform(shape=[50])\n",
        "F"
      ],
      "metadata": {
        "colab": {
          "base_uri": "https://localhost:8080/"
        },
        "id": "W4TPeT5U6-Jq",
        "outputId": "47904a1a-eaba-460a-a137-87d4c296370f"
      },
      "execution_count": null,
      "outputs": [
        {
          "output_type": "execute_result",
          "data": {
            "text/plain": [
              "<tf.Tensor: shape=(50,), dtype=float32, numpy=\n",
              "array([0.6645621 , 0.44100678, 0.3528825 , 0.46448255, 0.03366041,\n",
              "       0.68467236, 0.74011743, 0.8724445 , 0.22632635, 0.22319686,\n",
              "       0.3103881 , 0.7223358 , 0.13318717, 0.5480639 , 0.5746088 ,\n",
              "       0.8996835 , 0.00946367, 0.5212307 , 0.6345445 , 0.1993283 ,\n",
              "       0.72942245, 0.54583454, 0.10756552, 0.6767061 , 0.6602763 ,\n",
              "       0.33695042, 0.60141766, 0.21062577, 0.8527372 , 0.44062173,\n",
              "       0.9485276 , 0.23752594, 0.81179297, 0.5263394 , 0.494308  ,\n",
              "       0.21612847, 0.8457197 , 0.8718841 , 0.3083862 , 0.6868038 ,\n",
              "       0.23764038, 0.7817228 , 0.9671384 , 0.06870162, 0.79873943,\n",
              "       0.66028714, 0.5871513 , 0.16461694, 0.7381023 , 0.32054043],\n",
              "      dtype=float32)>"
            ]
          },
          "metadata": {},
          "execution_count": 79
        }
      ]
    },
    {
      "cell_type": "code",
      "source": [
        "tf.argmin(F), tf.argmax(F)"
      ],
      "metadata": {
        "colab": {
          "base_uri": "https://localhost:8080/"
        },
        "id": "6sXqHS01FvYC",
        "outputId": "042e9b6e-c47c-4788-d297-8cfd2e85b49d"
      },
      "execution_count": null,
      "outputs": [
        {
          "output_type": "execute_result",
          "data": {
            "text/plain": [
              "(<tf.Tensor: shape=(), dtype=int64, numpy=16>,\n",
              " <tf.Tensor: shape=(), dtype=int64, numpy=42>)"
            ]
          },
          "metadata": {},
          "execution_count": 80
        }
      ]
    },
    {
      "cell_type": "code",
      "source": [
        "F[tf.argmin(F)] == tf.reduce_min(F)"
      ],
      "metadata": {
        "colab": {
          "base_uri": "https://localhost:8080/"
        },
        "id": "0H7yvaTeGEtI",
        "outputId": "7a134b08-91dc-4bd2-ad82-e5f23996c5df"
      },
      "execution_count": null,
      "outputs": [
        {
          "output_type": "execute_result",
          "data": {
            "text/plain": [
              "<tf.Tensor: shape=(), dtype=bool, numpy=True>"
            ]
          },
          "metadata": {},
          "execution_count": 81
        }
      ]
    },
    {
      "cell_type": "code",
      "source": [
        "F[tf.argmax(F)] == tf.reduce_max(F)"
      ],
      "metadata": {
        "colab": {
          "base_uri": "https://localhost:8080/"
        },
        "id": "lT_6WtsEGOCY",
        "outputId": "bd580d8b-b2bc-4849-8ee5-d486ff198858"
      },
      "execution_count": null,
      "outputs": [
        {
          "output_type": "execute_result",
          "data": {
            "text/plain": [
              "<tf.Tensor: shape=(), dtype=bool, numpy=True>"
            ]
          },
          "metadata": {},
          "execution_count": 82
        }
      ]
    },
    {
      "cell_type": "markdown",
      "source": [
        "# One-hot Encoding Tensors"
      ],
      "metadata": {
        "id": "qFLpEw2EPdJ6"
      }
    },
    {
      "cell_type": "code",
      "source": [
        "some_list = [0, 1, 2, 3]\n",
        "tf.one_hot(some_list, depth=4)"
      ],
      "metadata": {
        "colab": {
          "base_uri": "https://localhost:8080/"
        },
        "id": "Ssoi3WqUPpkL",
        "outputId": "e62a45ea-db6a-41d5-8dfb-9cec4de68844"
      },
      "execution_count": null,
      "outputs": [
        {
          "output_type": "execute_result",
          "data": {
            "text/plain": [
              "<tf.Tensor: shape=(4, 4), dtype=float32, numpy=\n",
              "array([[1., 0., 0., 0.],\n",
              "       [0., 1., 0., 0.],\n",
              "       [0., 0., 1., 0.],\n",
              "       [0., 0., 0., 1.]], dtype=float32)>"
            ]
          },
          "metadata": {},
          "execution_count": 83
        }
      ]
    },
    {
      "cell_type": "code",
      "source": [
        "tf.one_hot(some_list, depth=4, on_value=\"YES\", off_value=\"NO\")"
      ],
      "metadata": {
        "colab": {
          "base_uri": "https://localhost:8080/"
        },
        "id": "seKS6N7wQOfs",
        "outputId": "a38c1493-f50f-46ac-c5f6-909ea5eba651"
      },
      "execution_count": null,
      "outputs": [
        {
          "output_type": "execute_result",
          "data": {
            "text/plain": [
              "<tf.Tensor: shape=(4, 4), dtype=string, numpy=\n",
              "array([[b'YES', b'NO', b'NO', b'NO'],\n",
              "       [b'NO', b'YES', b'NO', b'NO'],\n",
              "       [b'NO', b'NO', b'YES', b'NO'],\n",
              "       [b'NO', b'NO', b'NO', b'YES']], dtype=object)>"
            ]
          },
          "metadata": {},
          "execution_count": 84
        }
      ]
    },
    {
      "cell_type": "markdown",
      "source": [
        "# Tensors and NumPy"
      ],
      "metadata": {
        "id": "eCyc_BoJSiyn"
      }
    },
    {
      "cell_type": "code",
      "source": [
        " J = tf.constant(np.array([3., 7., 10.]))\n",
        " J"
      ],
      "metadata": {
        "colab": {
          "base_uri": "https://localhost:8080/"
        },
        "id": "O4dlxWDtSmuW",
        "outputId": "4559147a-d55e-48ae-d6f6-b176f20837d6"
      },
      "execution_count": null,
      "outputs": [
        {
          "output_type": "execute_result",
          "data": {
            "text/plain": [
              "<tf.Tensor: shape=(3,), dtype=float64, numpy=array([ 3.,  7., 10.])>"
            ]
          },
          "metadata": {},
          "execution_count": 85
        }
      ]
    },
    {
      "cell_type": "code",
      "source": [
        "np.array(J), type(np.array(J))"
      ],
      "metadata": {
        "colab": {
          "base_uri": "https://localhost:8080/"
        },
        "id": "BqBGv9hZSyb9",
        "outputId": "c98128bc-16a9-4f1c-e7fa-c472d8ab9f97"
      },
      "execution_count": null,
      "outputs": [
        {
          "output_type": "execute_result",
          "data": {
            "text/plain": [
              "(array([ 3.,  7., 10.]), numpy.ndarray)"
            ]
          },
          "metadata": {},
          "execution_count": 86
        }
      ]
    },
    {
      "cell_type": "code",
      "source": [
        "J.numpy(), type(J.numpy())"
      ],
      "metadata": {
        "colab": {
          "base_uri": "https://localhost:8080/"
        },
        "id": "AmzIgdSzTft6",
        "outputId": "5f4d9acf-e928-46d3-b7e6-1d10b92aa37f"
      },
      "execution_count": null,
      "outputs": [
        {
          "output_type": "execute_result",
          "data": {
            "text/plain": [
              "(array([ 3.,  7., 10.]), numpy.ndarray)"
            ]
          },
          "metadata": {},
          "execution_count": 87
        }
      ]
    },
    {
      "cell_type": "markdown",
      "source": [
        "# Finding access to GPUs"
      ],
      "metadata": {
        "id": "JrN0pNt8UV4W"
      }
    },
    {
      "cell_type": "code",
      "source": [
        "tf.config.list_physical_devices()"
      ],
      "metadata": {
        "colab": {
          "base_uri": "https://localhost:8080/"
        },
        "id": "z-UL-9VLUhia",
        "outputId": "16ae84d2-bf2a-440c-8a0a-55957e6dab8f"
      },
      "execution_count": null,
      "outputs": [
        {
          "output_type": "execute_result",
          "data": {
            "text/plain": [
              "[PhysicalDevice(name='/physical_device:CPU:0', device_type='CPU'),\n",
              " PhysicalDevice(name='/physical_device:GPU:0', device_type='GPU')]"
            ]
          },
          "metadata": {},
          "execution_count": 88
        }
      ]
    },
    {
      "cell_type": "code",
      "source": [
        "tf.config.list_physical_devices(\"GPU\")"
      ],
      "metadata": {
        "colab": {
          "base_uri": "https://localhost:8080/"
        },
        "id": "di2U5dEyUuAF",
        "outputId": "c7f36360-5c33-4e9f-f081-8ef7eac386fd"
      },
      "execution_count": null,
      "outputs": [
        {
          "output_type": "execute_result",
          "data": {
            "text/plain": [
              "[PhysicalDevice(name='/physical_device:GPU:0', device_type='GPU')]"
            ]
          },
          "metadata": {},
          "execution_count": 89
        }
      ]
    },
    {
      "cell_type": "code",
      "source": [
        "!nvidia-smi"
      ],
      "metadata": {
        "colab": {
          "base_uri": "https://localhost:8080/"
        },
        "id": "l9XzGO2PWGz0",
        "outputId": "01c422c8-db13-49ce-fa12-851d4b67b2fd"
      },
      "execution_count": null,
      "outputs": [
        {
          "output_type": "stream",
          "name": "stdout",
          "text": [
            "Wed Apr  5 12:16:16 2023       \n",
            "+-----------------------------------------------------------------------------+\n",
            "| NVIDIA-SMI 525.85.12    Driver Version: 525.85.12    CUDA Version: 12.0     |\n",
            "|-------------------------------+----------------------+----------------------+\n",
            "| GPU  Name        Persistence-M| Bus-Id        Disp.A | Volatile Uncorr. ECC |\n",
            "| Fan  Temp  Perf  Pwr:Usage/Cap|         Memory-Usage | GPU-Util  Compute M. |\n",
            "|                               |                      |               MIG M. |\n",
            "|===============================+======================+======================|\n",
            "|   0  Tesla T4            Off  | 00000000:00:04.0 Off |                    0 |\n",
            "| N/A   65C    P0    30W /  70W |    375MiB / 15360MiB |      0%      Default |\n",
            "|                               |                      |                  N/A |\n",
            "+-------------------------------+----------------------+----------------------+\n",
            "                                                                               \n",
            "+-----------------------------------------------------------------------------+\n",
            "| Processes:                                                                  |\n",
            "|  GPU   GI   CI        PID   Type   Process name                  GPU Memory |\n",
            "|        ID   ID                                                   Usage      |\n",
            "|=============================================================================|\n",
            "+-----------------------------------------------------------------------------+\n"
          ]
        }
      ]
    },
    {
      "cell_type": "markdown",
      "source": [
        "# Exercises 1"
      ],
      "metadata": {
        "id": "olApIflYXdcR"
      }
    },
    {
      "cell_type": "code",
      "source": [
        "sca1 = tf.constant([1])\n",
        "vec1 = tf.constant([1,2,3])\n",
        "mat1 = tf.constant([[1,2],\n",
        "                      [3,4]])\n",
        "ten1 = tf.constant([[[1,2,3],\n",
        "                     [11,22,33]],\n",
        "                    [[4,5,6],\n",
        "                     [44,55,66]]])\n",
        "sca1, vec1, mat1, ten1"
      ],
      "metadata": {
        "colab": {
          "base_uri": "https://localhost:8080/"
        },
        "id": "CAUH5uo9XiMz",
        "outputId": "a7ca52af-a928-49bd-90fc-06e20a1ebfba"
      },
      "execution_count": null,
      "outputs": [
        {
          "output_type": "execute_result",
          "data": {
            "text/plain": [
              "(<tf.Tensor: shape=(1,), dtype=int32, numpy=array([1], dtype=int32)>,\n",
              " <tf.Tensor: shape=(3,), dtype=int32, numpy=array([1, 2, 3], dtype=int32)>,\n",
              " <tf.Tensor: shape=(2, 2), dtype=int32, numpy=\n",
              " array([[1, 2],\n",
              "        [3, 4]], dtype=int32)>,\n",
              " <tf.Tensor: shape=(2, 2, 3), dtype=int32, numpy=\n",
              " array([[[ 1,  2,  3],\n",
              "         [11, 22, 33]],\n",
              " \n",
              "        [[ 4,  5,  6],\n",
              "         [44, 55, 66]]], dtype=int32)>)"
            ]
          },
          "metadata": {},
          "execution_count": 94
        }
      ]
    },
    {
      "cell_type": "code",
      "source": [
        "sca1.shape, sca1.ndim, tf.size(sca1)"
      ],
      "metadata": {
        "colab": {
          "base_uri": "https://localhost:8080/"
        },
        "id": "GKwCZ3QcbRlE",
        "outputId": "da4a3255-5fb8-4b7a-fb14-827465159559"
      },
      "execution_count": null,
      "outputs": [
        {
          "output_type": "execute_result",
          "data": {
            "text/plain": [
              "(TensorShape([1]), 1, <tf.Tensor: shape=(), dtype=int32, numpy=1>)"
            ]
          },
          "metadata": {},
          "execution_count": 98
        }
      ]
    },
    {
      "cell_type": "code",
      "source": [
        "vec1.shape, vec1.ndim, tf.size(vec1)"
      ],
      "metadata": {
        "colab": {
          "base_uri": "https://localhost:8080/"
        },
        "id": "QVoRmP17b53C",
        "outputId": "fea00c8b-aca0-432d-97be-35ac61c70436"
      },
      "execution_count": null,
      "outputs": [
        {
          "output_type": "execute_result",
          "data": {
            "text/plain": [
              "(TensorShape([3]), 1, <tf.Tensor: shape=(), dtype=int32, numpy=3>)"
            ]
          },
          "metadata": {},
          "execution_count": 99
        }
      ]
    },
    {
      "cell_type": "code",
      "source": [
        "mat1.shape, mat1.ndim, tf.size(mat1)"
      ],
      "metadata": {
        "colab": {
          "base_uri": "https://localhost:8080/"
        },
        "id": "xDdh9p1eb-sD",
        "outputId": "0d887050-ff7d-43fb-8901-ba64ea537a51"
      },
      "execution_count": null,
      "outputs": [
        {
          "output_type": "execute_result",
          "data": {
            "text/plain": [
              "(TensorShape([2, 2]), 2, <tf.Tensor: shape=(), dtype=int32, numpy=4>)"
            ]
          },
          "metadata": {},
          "execution_count": 100
        }
      ]
    },
    {
      "cell_type": "code",
      "source": [
        "ten1.shape, ten1.ndim, tf.size(ten1)"
      ],
      "metadata": {
        "colab": {
          "base_uri": "https://localhost:8080/"
        },
        "id": "vnqwCq2icB5T",
        "outputId": "b4437175-0a36-47bb-9002-7160912c5e8c"
      },
      "execution_count": null,
      "outputs": [
        {
          "output_type": "execute_result",
          "data": {
            "text/plain": [
              "(TensorShape([2, 2, 3]), 3, <tf.Tensor: shape=(), dtype=int32, numpy=12>)"
            ]
          },
          "metadata": {},
          "execution_count": 101
        }
      ]
    },
    {
      "cell_type": "code",
      "source": [
        "ten2 = tf.random.uniform([5,300])\n",
        "ten3 = tf.random.uniform([5,300])\n",
        "ten2, ten3"
      ],
      "metadata": {
        "colab": {
          "base_uri": "https://localhost:8080/"
        },
        "id": "UmYrKbiRcWBp",
        "outputId": "8c951a9d-e8bd-4126-d68b-d68483df10f5"
      },
      "execution_count": null,
      "outputs": [
        {
          "output_type": "execute_result",
          "data": {
            "text/plain": [
              "(<tf.Tensor: shape=(5, 300), dtype=float32, numpy=\n",
              " array([[0.95831835, 0.01680839, 0.3156035 , ..., 0.67105925, 0.76730955,\n",
              "         0.20125735],\n",
              "        [0.09921694, 0.02475083, 0.47242153, ..., 0.9631474 , 0.34333456,\n",
              "         0.8129494 ],\n",
              "        [0.08817983, 0.9311962 , 0.2293179 , ..., 0.41450226, 0.008304  ,\n",
              "         0.02438807],\n",
              "        [0.54814565, 0.37019622, 0.5272658 , ..., 0.8656951 , 0.19644582,\n",
              "         0.5959221 ],\n",
              "        [0.8964087 , 0.15288067, 0.3360591 , ..., 0.5725572 , 0.4094149 ,\n",
              "         0.40059018]], dtype=float32)>,\n",
              " <tf.Tensor: shape=(5, 300), dtype=float32, numpy=\n",
              " array([[0.43555546, 0.52486527, 0.49674678, ..., 0.00552487, 0.3156761 ,\n",
              "         0.22303641],\n",
              "        [0.93881905, 0.02025807, 0.8929347 , ..., 0.47184265, 0.93879664,\n",
              "         0.27382708],\n",
              "        [0.8537835 , 0.287457  , 0.57827055, ..., 0.22605908, 0.62864304,\n",
              "         0.28893173],\n",
              "        [0.83130777, 0.13316286, 0.4270022 , ..., 0.96334374, 0.81353974,\n",
              "         0.47423255],\n",
              "        [0.20213544, 0.15954506, 0.9492575 , ..., 0.93022454, 0.31091654,\n",
              "         0.41263437]], dtype=float32)>)"
            ]
          },
          "metadata": {},
          "execution_count": 106
        }
      ]
    },
    {
      "cell_type": "code",
      "source": [
        "tf.matmul(tf.transpose(ten2),ten3), tf.matmul(ten2, tf.transpose(ten3))"
      ],
      "metadata": {
        "colab": {
          "base_uri": "https://localhost:8080/"
        },
        "id": "APyVkc0TcpxP",
        "outputId": "836262f2-74e0-4d25-e590-01566bde8968"
      },
      "execution_count": null,
      "outputs": [
        {
          "output_type": "execute_result",
          "data": {
            "text/plain": [
              "(<tf.Tensor: shape=(300, 300), dtype=float32, numpy=\n",
              " array([[1.2227077 , 0.74635607, 1.7006097 , ..., 1.4339572 , 1.175743  ,\n",
              "         0.89622366],\n",
              "        [1.164247  , 0.35069013, 0.87213147, ..., 0.7211163 , 0.9626345 ,\n",
              "         0.5182214 ],\n",
              "        [1.2830186 , 0.3649675 , 1.2553747 , ..., 1.0970403 , 1.2207333 ,\n",
              "         0.6547262 ],\n",
              "        ...,\n",
              "        [2.385793  , 0.6975059 , 2.3462267 , ..., 1.9184322 , 2.258906  ,\n",
              "         1.1799669 ],\n",
              "        [0.9096889 , 0.5035559 , 1.1650587 , ..., 0.738209  , 0.8568732 ,\n",
              "         0.5296512 ],\n",
              "        [1.4480615 , 0.2723792 , 1.4747108 , ..., 1.3369259 , 1.4514141 ,\n",
              "         0.7224447 ]], dtype=float32)>,\n",
              " <tf.Tensor: shape=(5, 5), dtype=float32, numpy=\n",
              " array([[73.45296 , 74.09731 , 74.092186, 73.01437 , 73.156876],\n",
              "        [74.90098 , 75.27091 , 77.775635, 74.37875 , 74.90591 ],\n",
              "        [83.04034 , 79.46228 , 82.300026, 80.63679 , 78.7219  ],\n",
              "        [76.86667 , 76.41696 , 79.00328 , 77.386116, 77.40252 ],\n",
              "        [76.20902 , 74.707855, 79.07422 , 75.523506, 73.94785 ]],\n",
              "       dtype=float32)>)"
            ]
          },
          "metadata": {},
          "execution_count": 109
        }
      ]
    },
    {
      "cell_type": "code",
      "source": [
        "tf.tensordot(tf.reshape(ten2, shape=(300,5)),ten3, axes=1), tf.tensordot(ten2, tf.reshape(ten3, shape=(300,5)), axes=1)"
      ],
      "metadata": {
        "colab": {
          "base_uri": "https://localhost:8080/"
        },
        "id": "L0Oj-OwHeezk",
        "outputId": "1e969245-a67a-47f7-f463-235358645986"
      },
      "execution_count": null,
      "outputs": [
        {
          "output_type": "execute_result",
          "data": {
            "text/plain": [
              "(<tf.Tensor: shape=(300, 300), dtype=float32, numpy=\n",
              " array([[0.9802571 , 0.7294286 , 1.4205271 , ..., 0.9038221 , 0.8692382 ,\n",
              "         0.68044996],\n",
              "        [1.0373178 , 0.63988084, 1.3689739 , ..., 0.9168338 , 0.9317551 ,\n",
              "         0.66094613],\n",
              "        [1.4492459 , 0.6989448 , 1.1103034 , ..., 0.96827394, 1.2712358 ,\n",
              "         0.7348511 ],\n",
              "        ...,\n",
              "        [1.3526613 , 0.5245875 , 1.4912858 , ..., 1.3427961 , 1.2327067 ,\n",
              "         0.81545055],\n",
              "        [2.5152001 , 0.9907487 , 2.2166743 , ..., 1.6714772 , 2.205762  ,\n",
              "         1.2145045 ],\n",
              "        [1.6495492 , 0.4251736 , 1.6096195 , ..., 1.2158446 , 1.5275803 ,\n",
              "         0.76404625]], dtype=float32)>,\n",
              " <tf.Tensor: shape=(5, 5), dtype=float32, numpy=\n",
              " array([[73.18031 , 74.87461 , 74.44004 , 71.073265, 68.95417 ],\n",
              "        [74.776695, 75.75687 , 77.546814, 72.14329 , 73.153564],\n",
              "        [81.712105, 81.39893 , 78.34574 , 76.58476 , 80.466705],\n",
              "        [79.061226, 77.07333 , 76.17834 , 74.92463 , 75.26428 ],\n",
              "        [77.532326, 76.81462 , 73.82923 , 73.76158 , 73.86308 ]],\n",
              "       dtype=float32)>)"
            ]
          },
          "metadata": {},
          "execution_count": 115
        }
      ]
    },
    {
      "cell_type": "code",
      "source": [
        "ten4 = tf.random.uniform([224, 224, 3])\n",
        "ten4"
      ],
      "metadata": {
        "colab": {
          "base_uri": "https://localhost:8080/"
        },
        "id": "pTU36Pqge_vz",
        "outputId": "0d677f4f-1bf4-489c-b4c0-be61850e848d"
      },
      "execution_count": null,
      "outputs": [
        {
          "output_type": "execute_result",
          "data": {
            "text/plain": [
              "<tf.Tensor: shape=(224, 224, 3), dtype=float32, numpy=\n",
              "array([[[0.14241445, 0.40161622, 0.33360183],\n",
              "        [0.6816542 , 0.69087017, 0.22069418],\n",
              "        [0.61336195, 0.9588975 , 0.3314948 ],\n",
              "        ...,\n",
              "        [0.21534526, 0.8758553 , 0.90849984],\n",
              "        [0.913136  , 0.3300879 , 0.21957576],\n",
              "        [0.294909  , 0.51060224, 0.41247094]],\n",
              "\n",
              "       [[0.24516141, 0.0526433 , 0.8009639 ],\n",
              "        [0.39559937, 0.91123044, 0.66148484],\n",
              "        [0.62018025, 0.13185847, 0.2584139 ],\n",
              "        ...,\n",
              "        [0.69155025, 0.35061288, 0.7918345 ],\n",
              "        [0.71887565, 0.13187587, 0.6776898 ],\n",
              "        [0.91522217, 0.72013485, 0.5736792 ]],\n",
              "\n",
              "       [[0.32997262, 0.01919758, 0.7673421 ],\n",
              "        [0.37867343, 0.09564745, 0.07906318],\n",
              "        [0.7100911 , 0.934427  , 0.5622425 ],\n",
              "        ...,\n",
              "        [0.8063401 , 0.53997624, 0.9590297 ],\n",
              "        [0.7728716 , 0.5758432 , 0.53311133],\n",
              "        [0.00398016, 0.15231979, 0.6468185 ]],\n",
              "\n",
              "       ...,\n",
              "\n",
              "       [[0.3400538 , 0.40921474, 0.04457414],\n",
              "        [0.8624321 , 0.9367907 , 0.839291  ],\n",
              "        [0.21796441, 0.61002827, 0.20527577],\n",
              "        ...,\n",
              "        [0.48761916, 0.46545267, 0.9492396 ],\n",
              "        [0.60848117, 0.4233297 , 0.92878056],\n",
              "        [0.5943769 , 0.86359346, 0.43811893]],\n",
              "\n",
              "       [[0.6843432 , 0.13533545, 0.83167446],\n",
              "        [0.21111202, 0.33052886, 0.7118019 ],\n",
              "        [0.66532993, 0.40470684, 0.20319033],\n",
              "        ...,\n",
              "        [0.07761109, 0.96958005, 0.61649036],\n",
              "        [0.8853055 , 0.2956084 , 0.08331525],\n",
              "        [0.5259522 , 0.40515542, 0.6414683 ]],\n",
              "\n",
              "       [[0.34870815, 0.7481811 , 0.77736974],\n",
              "        [0.62542915, 0.9978602 , 0.00938201],\n",
              "        [0.4835496 , 0.96025705, 0.02535343],\n",
              "        ...,\n",
              "        [0.8244965 , 0.39622104, 0.8123003 ],\n",
              "        [0.44511092, 0.6529583 , 0.57683337],\n",
              "        [0.15109932, 0.23112547, 0.38747323]]], dtype=float32)>"
            ]
          },
          "metadata": {},
          "execution_count": 116
        }
      ]
    },
    {
      "cell_type": "code",
      "source": [
        "tf.reduce_min(ten4[0])"
      ],
      "metadata": {
        "colab": {
          "base_uri": "https://localhost:8080/"
        },
        "id": "L26OKJ45f1EM",
        "outputId": "eded45dd-ba10-4c16-f915-ecd907f32f7a"
      },
      "execution_count": null,
      "outputs": [
        {
          "output_type": "execute_result",
          "data": {
            "text/plain": [
              "<tf.Tensor: shape=(), dtype=float32, numpy=0.00034153461>"
            ]
          },
          "metadata": {},
          "execution_count": 122
        }
      ]
    },
    {
      "cell_type": "code",
      "source": [
        "ten5 = tf.random.uniform([1, 224, 224, 3])\n",
        "ten5, tf.squeeze(ten5)"
      ],
      "metadata": {
        "colab": {
          "base_uri": "https://localhost:8080/"
        },
        "id": "2XGKBNcNghJh",
        "outputId": "6acd777c-6353-45be-891d-d605f7d52467"
      },
      "execution_count": null,
      "outputs": [
        {
          "output_type": "execute_result",
          "data": {
            "text/plain": [
              "(<tf.Tensor: shape=(1, 224, 224, 3), dtype=float32, numpy=\n",
              " array([[[[0.2046014 , 0.82478166, 0.81674874],\n",
              "          [0.57813525, 0.72301936, 0.9893687 ],\n",
              "          [0.33879173, 0.4470011 , 0.24898088],\n",
              "          ...,\n",
              "          [0.574314  , 0.6185826 , 0.4371407 ],\n",
              "          [0.45086288, 0.673488  , 0.19694173],\n",
              "          [0.7261505 , 0.4120711 , 0.11013401]],\n",
              " \n",
              "         [[0.6134424 , 0.91840196, 0.6838045 ],\n",
              "          [0.89331627, 0.67425346, 0.60953534],\n",
              "          [0.36227953, 0.00483751, 0.22489178],\n",
              "          ...,\n",
              "          [0.84603393, 0.24309051, 0.18531716],\n",
              "          [0.5195565 , 0.6304064 , 0.7182379 ],\n",
              "          [0.22715592, 0.4978919 , 0.8341614 ]],\n",
              " \n",
              "         [[0.15624535, 0.1719867 , 0.6037985 ],\n",
              "          [0.86916864, 0.16423154, 0.9619628 ],\n",
              "          [0.37755537, 0.9332715 , 0.8822973 ],\n",
              "          ...,\n",
              "          [0.82203424, 0.9220053 , 0.45980155],\n",
              "          [0.66036093, 0.23616183, 0.37692404],\n",
              "          [0.05016053, 0.35180223, 0.3742    ]],\n",
              " \n",
              "         ...,\n",
              " \n",
              "         [[0.08419359, 0.1039772 , 0.10614038],\n",
              "          [0.76690435, 0.1748004 , 0.90624845],\n",
              "          [0.14625955, 0.73118234, 0.9288664 ],\n",
              "          ...,\n",
              "          [0.5202912 , 0.24843848, 0.3308599 ],\n",
              "          [0.8984262 , 0.5088519 , 0.04869831],\n",
              "          [0.6854204 , 0.19121027, 0.10687745]],\n",
              " \n",
              "         [[0.05885875, 0.26065063, 0.59566724],\n",
              "          [0.66117096, 0.15126562, 0.863932  ],\n",
              "          [0.83801186, 0.04528403, 0.40604365],\n",
              "          ...,\n",
              "          [0.7675276 , 0.7469387 , 0.0471561 ],\n",
              "          [0.66339207, 0.46347725, 0.7286333 ],\n",
              "          [0.9598675 , 0.64756024, 0.32247138]],\n",
              " \n",
              "         [[0.88301   , 0.6767136 , 0.8521973 ],\n",
              "          [0.68337905, 0.8854543 , 0.24606872],\n",
              "          [0.626539  , 0.7273047 , 0.37921572],\n",
              "          ...,\n",
              "          [0.47842324, 0.415146  , 0.92559075],\n",
              "          [0.16227007, 0.17625594, 0.7387748 ],\n",
              "          [0.42276406, 0.62422204, 0.14089334]]]], dtype=float32)>,\n",
              " <tf.Tensor: shape=(224, 224, 3), dtype=float32, numpy=\n",
              " array([[[0.2046014 , 0.82478166, 0.81674874],\n",
              "         [0.57813525, 0.72301936, 0.9893687 ],\n",
              "         [0.33879173, 0.4470011 , 0.24898088],\n",
              "         ...,\n",
              "         [0.574314  , 0.6185826 , 0.4371407 ],\n",
              "         [0.45086288, 0.673488  , 0.19694173],\n",
              "         [0.7261505 , 0.4120711 , 0.11013401]],\n",
              " \n",
              "        [[0.6134424 , 0.91840196, 0.6838045 ],\n",
              "         [0.89331627, 0.67425346, 0.60953534],\n",
              "         [0.36227953, 0.00483751, 0.22489178],\n",
              "         ...,\n",
              "         [0.84603393, 0.24309051, 0.18531716],\n",
              "         [0.5195565 , 0.6304064 , 0.7182379 ],\n",
              "         [0.22715592, 0.4978919 , 0.8341614 ]],\n",
              " \n",
              "        [[0.15624535, 0.1719867 , 0.6037985 ],\n",
              "         [0.86916864, 0.16423154, 0.9619628 ],\n",
              "         [0.37755537, 0.9332715 , 0.8822973 ],\n",
              "         ...,\n",
              "         [0.82203424, 0.9220053 , 0.45980155],\n",
              "         [0.66036093, 0.23616183, 0.37692404],\n",
              "         [0.05016053, 0.35180223, 0.3742    ]],\n",
              " \n",
              "        ...,\n",
              " \n",
              "        [[0.08419359, 0.1039772 , 0.10614038],\n",
              "         [0.76690435, 0.1748004 , 0.90624845],\n",
              "         [0.14625955, 0.73118234, 0.9288664 ],\n",
              "         ...,\n",
              "         [0.5202912 , 0.24843848, 0.3308599 ],\n",
              "         [0.8984262 , 0.5088519 , 0.04869831],\n",
              "         [0.6854204 , 0.19121027, 0.10687745]],\n",
              " \n",
              "        [[0.05885875, 0.26065063, 0.59566724],\n",
              "         [0.66117096, 0.15126562, 0.863932  ],\n",
              "         [0.83801186, 0.04528403, 0.40604365],\n",
              "         ...,\n",
              "         [0.7675276 , 0.7469387 , 0.0471561 ],\n",
              "         [0.66339207, 0.46347725, 0.7286333 ],\n",
              "         [0.9598675 , 0.64756024, 0.32247138]],\n",
              " \n",
              "        [[0.88301   , 0.6767136 , 0.8521973 ],\n",
              "         [0.68337905, 0.8854543 , 0.24606872],\n",
              "         [0.626539  , 0.7273047 , 0.37921572],\n",
              "         ...,\n",
              "         [0.47842324, 0.415146  , 0.92559075],\n",
              "         [0.16227007, 0.17625594, 0.7387748 ],\n",
              "         [0.42276406, 0.62422204, 0.14089334]]], dtype=float32)>)"
            ]
          },
          "metadata": {},
          "execution_count": 123
        }
      ]
    },
    {
      "cell_type": "code",
      "source": [
        "ten6 = tf.constant([1,3,2,4,4,5,0,6,7,3])\n",
        "ten6, tf.argmin(ten6)"
      ],
      "metadata": {
        "colab": {
          "base_uri": "https://localhost:8080/"
        },
        "id": "ozb-zbhfhgxQ",
        "outputId": "4e89e06d-acf6-480c-8faf-8bfc560b9e31"
      },
      "execution_count": null,
      "outputs": [
        {
          "output_type": "execute_result",
          "data": {
            "text/plain": [
              "(<tf.Tensor: shape=(10,), dtype=int32, numpy=array([1, 3, 2, 4, 4, 5, 0, 6, 7, 3], dtype=int32)>,\n",
              " <tf.Tensor: shape=(), dtype=int64, numpy=6>)"
            ]
          },
          "metadata": {},
          "execution_count": 133
        }
      ]
    },
    {
      "cell_type": "code",
      "source": [
        "tf.one_hot(ten6, depth=8)"
      ],
      "metadata": {
        "colab": {
          "base_uri": "https://localhost:8080/"
        },
        "id": "GG8QxgnritCp",
        "outputId": "a16bea39-b6b0-4578-a4d9-c77e53eae354"
      },
      "execution_count": null,
      "outputs": [
        {
          "output_type": "execute_result",
          "data": {
            "text/plain": [
              "<tf.Tensor: shape=(10, 8), dtype=float32, numpy=\n",
              "array([[0., 1., 0., 0., 0., 0., 0., 0.],\n",
              "       [0., 0., 0., 1., 0., 0., 0., 0.],\n",
              "       [0., 0., 1., 0., 0., 0., 0., 0.],\n",
              "       [0., 0., 0., 0., 1., 0., 0., 0.],\n",
              "       [0., 0., 0., 0., 1., 0., 0., 0.],\n",
              "       [0., 0., 0., 0., 0., 1., 0., 0.],\n",
              "       [1., 0., 0., 0., 0., 0., 0., 0.],\n",
              "       [0., 0., 0., 0., 0., 0., 1., 0.],\n",
              "       [0., 0., 0., 0., 0., 0., 0., 1.],\n",
              "       [0., 0., 0., 1., 0., 0., 0., 0.]], dtype=float32)>"
            ]
          },
          "metadata": {},
          "execution_count": 134
        }
      ]
    }
  ]
}