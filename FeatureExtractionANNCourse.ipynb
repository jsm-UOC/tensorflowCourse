{
  "nbformat": 4,
  "nbformat_minor": 0,
  "metadata": {
    "colab": {
      "provenance": [],
      "authorship_tag": "ABX9TyPONYjUF1rZkuFZhQeKKlCC",
      "include_colab_link": true
    },
    "kernelspec": {
      "name": "python3",
      "display_name": "Python 3"
    },
    "language_info": {
      "name": "python"
    },
    "accelerator": "GPU",
    "gpuClass": "standard"
  },
  "cells": [
    {
      "cell_type": "markdown",
      "metadata": {
        "id": "view-in-github",
        "colab_type": "text"
      },
      "source": [
        "<a href=\"https://colab.research.google.com/github/jsm-UOC/tensorflowCourse/blob/main/FeatureExtractionANNCourse.ipynb\" target=\"_parent\"><img src=\"https://colab.research.google.com/assets/colab-badge.svg\" alt=\"Open In Colab\"/></a>"
      ]
    },
    {
      "cell_type": "markdown",
      "source": [
        "# Transfer Learning with TF: Feature Extraction\n"
      ],
      "metadata": {
        "id": "I_AHiVXnvvlW"
      }
    },
    {
      "cell_type": "code",
      "source": [
        "!nvidia-smi"
      ],
      "metadata": {
        "colab": {
          "base_uri": "https://localhost:8080/"
        },
        "id": "znmKjrFpyNfs",
        "outputId": "f903716b-8612-4fc6-9058-0736439f12e4"
      },
      "execution_count": null,
      "outputs": [
        {
          "output_type": "stream",
          "name": "stdout",
          "text": [
            "Wed May  3 06:30:34 2023       \n",
            "+-----------------------------------------------------------------------------+\n",
            "| NVIDIA-SMI 525.85.12    Driver Version: 525.85.12    CUDA Version: 12.0     |\n",
            "|-------------------------------+----------------------+----------------------+\n",
            "| GPU  Name        Persistence-M| Bus-Id        Disp.A | Volatile Uncorr. ECC |\n",
            "| Fan  Temp  Perf  Pwr:Usage/Cap|         Memory-Usage | GPU-Util  Compute M. |\n",
            "|                               |                      |               MIG M. |\n",
            "|===============================+======================+======================|\n",
            "|   0  Tesla T4            Off  | 00000000:00:04.0 Off |                    0 |\n",
            "| N/A   47C    P8     9W /  70W |      0MiB / 15360MiB |      0%      Default |\n",
            "|                               |                      |                  N/A |\n",
            "+-------------------------------+----------------------+----------------------+\n",
            "                                                                               \n",
            "+-----------------------------------------------------------------------------+\n",
            "| Processes:                                                                  |\n",
            "|  GPU   GI   CI        PID   Type   Process name                  GPU Memory |\n",
            "|        ID   ID                                                   Usage      |\n",
            "|=============================================================================|\n",
            "|  No running processes found                                                 |\n",
            "+-----------------------------------------------------------------------------+\n"
          ]
        }
      ]
    },
    {
      "cell_type": "markdown",
      "source": [
        "## Become one with the data"
      ],
      "metadata": {
        "id": "oOXJce_Sx4HX"
      }
    },
    {
      "cell_type": "code",
      "source": [
        "import zipfile\n",
        "\n",
        "!wget https://storage.googleapis.com/ztm_tf_course/food_vision/10_food_classes_10_percent.zip\n",
        "\n",
        "zip_ref = zipfile.ZipFile(\"10_food_classes_10_percent.zip\")\n",
        "zip_ref.extractall()\n",
        "zip_ref.close()"
      ],
      "metadata": {
        "id": "mzL-suDnyM_B",
        "colab": {
          "base_uri": "https://localhost:8080/"
        },
        "outputId": "0645ec20-4c15-43f9-e59f-1418eb537ffe"
      },
      "execution_count": null,
      "outputs": [
        {
          "output_type": "stream",
          "name": "stdout",
          "text": [
            "--2023-05-03 06:30:34--  https://storage.googleapis.com/ztm_tf_course/food_vision/10_food_classes_10_percent.zip\n",
            "Resolving storage.googleapis.com (storage.googleapis.com)... 74.125.195.128, 173.194.202.128, 173.194.203.128, ...\n",
            "Connecting to storage.googleapis.com (storage.googleapis.com)|74.125.195.128|:443... connected.\n",
            "HTTP request sent, awaiting response... 200 OK\n",
            "Length: 168546183 (161M) [application/zip]\n",
            "Saving to: ‘10_food_classes_10_percent.zip’\n",
            "\n",
            "10_food_classes_10_ 100%[===================>] 160.74M   146MB/s    in 1.1s    \n",
            "\n",
            "2023-05-03 06:30:35 (146 MB/s) - ‘10_food_classes_10_percent.zip’ saved [168546183/168546183]\n",
            "\n"
          ]
        }
      ]
    },
    {
      "cell_type": "code",
      "source": [
        "import os\n",
        "\n",
        "for dirpath, dirnames, filenames in os.walk(\"10_food_classes_10_percent\"):\n",
        "  print(f\"There are {len(dirnames)} directories and {len(filenames)} in {dirpath}\")"
      ],
      "metadata": {
        "colab": {
          "base_uri": "https://localhost:8080/"
        },
        "id": "YqkFfBDpzHoa",
        "outputId": "9b00f419-f0a6-4f73-ae51-750eb65c5d50"
      },
      "execution_count": null,
      "outputs": [
        {
          "output_type": "stream",
          "name": "stdout",
          "text": [
            "There are 2 directories and 0 in 10_food_classes_10_percent\n",
            "There are 10 directories and 0 in 10_food_classes_10_percent/train\n",
            "There are 0 directories and 75 in 10_food_classes_10_percent/train/grilled_salmon\n",
            "There are 0 directories and 75 in 10_food_classes_10_percent/train/ice_cream\n",
            "There are 0 directories and 75 in 10_food_classes_10_percent/train/steak\n",
            "There are 0 directories and 75 in 10_food_classes_10_percent/train/ramen\n",
            "There are 0 directories and 75 in 10_food_classes_10_percent/train/sushi\n",
            "There are 0 directories and 75 in 10_food_classes_10_percent/train/fried_rice\n",
            "There are 0 directories and 75 in 10_food_classes_10_percent/train/chicken_curry\n",
            "There are 0 directories and 75 in 10_food_classes_10_percent/train/hamburger\n",
            "There are 0 directories and 75 in 10_food_classes_10_percent/train/chicken_wings\n",
            "There are 0 directories and 75 in 10_food_classes_10_percent/train/pizza\n",
            "There are 10 directories and 0 in 10_food_classes_10_percent/test\n",
            "There are 0 directories and 250 in 10_food_classes_10_percent/test/grilled_salmon\n",
            "There are 0 directories and 250 in 10_food_classes_10_percent/test/ice_cream\n",
            "There are 0 directories and 250 in 10_food_classes_10_percent/test/steak\n",
            "There are 0 directories and 250 in 10_food_classes_10_percent/test/ramen\n",
            "There are 0 directories and 250 in 10_food_classes_10_percent/test/sushi\n",
            "There are 0 directories and 250 in 10_food_classes_10_percent/test/fried_rice\n",
            "There are 0 directories and 250 in 10_food_classes_10_percent/test/chicken_curry\n",
            "There are 0 directories and 250 in 10_food_classes_10_percent/test/hamburger\n",
            "There are 0 directories and 250 in 10_food_classes_10_percent/test/chicken_wings\n",
            "There are 0 directories and 250 in 10_food_classes_10_percent/test/pizza\n"
          ]
        }
      ]
    },
    {
      "cell_type": "markdown",
      "source": [
        "## Create data loaders"
      ],
      "metadata": {
        "id": "Wr2Y5627zkoK"
      }
    },
    {
      "cell_type": "code",
      "source": [
        "from tensorflow.keras.preprocessing.image import ImageDataGenerator\n",
        "\n",
        "IMAGE_SHAPE = (224, 224)\n",
        "BATCH_SIZE = 32\n",
        "\n",
        "train_dir = \"10_food_classes_10_percent/train\"\n",
        "test_dir = \"10_food_classes_10_percent/test\"\n",
        "\n",
        "train_datagen = ImageDataGenerator(rescale=1/255.)\n",
        "test_datagen = ImageDataGenerator(rescale=1/255.)\n",
        "\n",
        "print(\"Training images:\")\n",
        "train_data_10_percent = train_datagen.flow_from_directory(train_dir,\n",
        "                                                          target_size=IMAGE_SHAPE,\n",
        "                                                          batch_size=BATCH_SIZE,\n",
        "                                                          class_mode=\"categorical\")\n",
        "print(\"Testing images:\")\n",
        "test_data_10_percent = test_datagen.flow_from_directory(test_dir,\n",
        "                                                          target_size=IMAGE_SHAPE,\n",
        "                                                          batch_size=BATCH_SIZE,\n",
        "                                                          class_mode=\"categorical\")"
      ],
      "metadata": {
        "colab": {
          "base_uri": "https://localhost:8080/"
        },
        "id": "S5l5_wMSzrm4",
        "outputId": "e552014a-b72c-4c72-a5a5-619ce36040ac"
      },
      "execution_count": null,
      "outputs": [
        {
          "output_type": "stream",
          "name": "stdout",
          "text": [
            "Training images:\n",
            "Found 750 images belonging to 10 classes.\n",
            "Testing images:\n",
            "Found 2500 images belonging to 10 classes.\n"
          ]
        }
      ]
    },
    {
      "cell_type": "markdown",
      "source": [
        "## Setting up callbacks"
      ],
      "metadata": {
        "id": "VnbSa0Em6oq6"
      }
    },
    {
      "cell_type": "code",
      "source": [
        "import datetime\n",
        "\n",
        "def create_tensorboard_callback(dir_name, experiment_name):\n",
        "  log_dir = dir_name + \"/\" + experiment_name + \"/\" + datetime.datetime.now().strftime(\"%Y%m%d-%H%M%S\")\n",
        "  tensorboard_callback = tf.keras.callbacks.TensorBoard(log_dir=log_dir)\n",
        "  print(f\"Saving Tensorboard log files to: {log_dir}\")\n",
        "  return tensorboard_callback"
      ],
      "metadata": {
        "id": "Ms27Lk4U6wCU"
      },
      "execution_count": null,
      "outputs": []
    },
    {
      "cell_type": "code",
      "source": [
        "resnet_url = \"https://tfhub.dev/google/imagenet/resnet_v2_50/feature_vector/5\"\n",
        "efficientnet_url = \"https://tfhub.dev/tensorflow/efficientnet/b0/feature-vector/1\""
      ],
      "metadata": {
        "id": "9SC2IeLE8aC0"
      },
      "execution_count": null,
      "outputs": []
    },
    {
      "cell_type": "code",
      "source": [
        "import tensorflow as tf\n",
        "import tensorflow_hub as hub\n",
        "import\n",
        "from tensorflow.keras import layers"
      ],
      "metadata": {
        "id": "tk4OrZz3VZTT"
      },
      "execution_count": null,
      "outputs": []
    },
    {
      "cell_type": "code",
      "source": [
        "def create_model(model_url, num_classes=10, trainable=False):\n",
        "\n",
        "  feature_extrator_layer = hub.KerasLayer(model_url,\n",
        "                                          trainable=trainable,\n",
        "                                          name=\"feature_extrator_layer\",\n",
        "                                          input_shape=IMAGE_SHAPE+(3,))\n",
        "\n",
        "  model = tf.keras.Sequential([\n",
        "      feature_extrator_layer,\n",
        "      layers.Dense(num_classes, activation=\"softmax\", name=\"output_layer\")\n",
        "  ])\n",
        "\n",
        "  return model"
      ],
      "metadata": {
        "id": "TKKasH-wVlvP"
      },
      "execution_count": null,
      "outputs": []
    },
    {
      "cell_type": "markdown",
      "source": [
        "### Resnet Model"
      ],
      "metadata": {
        "id": "9BXV8Ma9XFVM"
      }
    },
    {
      "cell_type": "code",
      "source": [
        "resnet_model = create_model(resnet_url, num_classes=train_data_10_percent.num_classes, trainable=False)"
      ],
      "metadata": {
        "id": "pexZcP92XJK1"
      },
      "execution_count": null,
      "outputs": []
    },
    {
      "cell_type": "code",
      "source": [
        "resnet_model.summary()"
      ],
      "metadata": {
        "colab": {
          "base_uri": "https://localhost:8080/"
        },
        "id": "bgmAzAsdXyfU",
        "outputId": "b8009ac4-4376-469f-b370-d607ef2065e4"
      },
      "execution_count": null,
      "outputs": [
        {
          "output_type": "stream",
          "name": "stdout",
          "text": [
            "Model: \"sequential_1\"\n",
            "_________________________________________________________________\n",
            " Layer (type)                Output Shape              Param #   \n",
            "=================================================================\n",
            " feature_extrator_layer (Ker  (None, 2048)             23564800  \n",
            " asLayer)                                                        \n",
            "                                                                 \n",
            " output_layer (Dense)        (None, 10)                20490     \n",
            "                                                                 \n",
            "=================================================================\n",
            "Total params: 23,585,290\n",
            "Trainable params: 20,490\n",
            "Non-trainable params: 23,564,800\n",
            "_________________________________________________________________\n"
          ]
        }
      ]
    },
    {
      "cell_type": "code",
      "source": [
        "resnet_model.compile(loss=\"categorical_crossentropy\",\n",
        "                     optimizer=tf.keras.optimizers.Adam(),\n",
        "                     metrics=[\"accuracy\"])"
      ],
      "metadata": {
        "id": "hVAoIPU8X3Sv"
      },
      "execution_count": null,
      "outputs": []
    },
    {
      "cell_type": "code",
      "source": [
        "resnet_history = resnet_model.fit(train_data_10_percent,\n",
        "                                  epochs=5,\n",
        "                                  steps_per_epoch=len(train_data_10_percent),\n",
        "                                  validation_data=test_data_10_percent,\n",
        "                                  validation_steps=len(test_data_10_percent),\n",
        "                                  callbacks=[create_tensorboard_callback(dir_name=\"tensorflow_hub\",\n",
        "                                                                          experiment_name=\"resnet50v\")])"
      ],
      "metadata": {
        "colab": {
          "base_uri": "https://localhost:8080/"
        },
        "id": "sZAX8yabYEUs",
        "outputId": "443bf21c-e58c-4ffa-a31d-cf146ec395d2"
      },
      "execution_count": null,
      "outputs": [
        {
          "output_type": "stream",
          "name": "stdout",
          "text": [
            "Saving Tensorboard log files to: tensorflow_hub/resnet50v/20230503-073823\n",
            "Epoch 1/5\n",
            "24/24 [==============================] - 23s 767ms/step - loss: 2.1089 - accuracy: 0.2987 - val_loss: 1.2968 - val_accuracy: 0.5740\n",
            "Epoch 2/5\n",
            "24/24 [==============================] - 24s 1s/step - loss: 0.9731 - accuracy: 0.7173 - val_loss: 0.8733 - val_accuracy: 0.7264\n",
            "Epoch 3/5\n",
            "24/24 [==============================] - 24s 1s/step - loss: 0.6497 - accuracy: 0.8213 - val_loss: 0.7665 - val_accuracy: 0.7624\n",
            "Epoch 4/5\n",
            "24/24 [==============================] - 17s 723ms/step - loss: 0.5013 - accuracy: 0.8800 - val_loss: 0.7066 - val_accuracy: 0.7712\n",
            "Epoch 5/5\n",
            "24/24 [==============================] - 18s 748ms/step - loss: 0.3970 - accuracy: 0.9173 - val_loss: 0.6760 - val_accuracy: 0.7824\n"
          ]
        }
      ]
    },
    {
      "cell_type": "code",
      "source": [
        "import matplotlib.pyplot as plt\n",
        "\n",
        "def plot_loss_curves(history):\n",
        "\n",
        "  loss = history.history[\"loss\"]\n",
        "  val_loss = history.history[\"val_loss\"]\n",
        "\n",
        "  accuracy = history.history[\"accuracy\"]\n",
        "  val_accuracy = history.history[\"val_accuracy\"]\n",
        "\n",
        "  epochs = range(len(history.history[\"loss\"]))\n",
        "\n",
        "  plt.plot(epochs, loss, label=\"training_loss\")\n",
        "  plt.plot(epochs, val_loss, label=\"validation_loss\")\n",
        "  plt.title(\"loss\")\n",
        "  plt.xlabel(\"epochs\")\n",
        "  plt.legend()\n",
        "\n",
        "  plt.figure()\n",
        "  plt.plot(epochs, accuracy, label=\"training_accuracy\")\n",
        "  plt.plot(epochs, val_accuracy, label=\"validation_accuracy\")\n",
        "  plt.title(\"accuracy\")\n",
        "  plt.xlabel(\"epochs\")\n",
        "  plt.legend()"
      ],
      "metadata": {
        "id": "tJ7FjmYEasu1"
      },
      "execution_count": null,
      "outputs": []
    },
    {
      "cell_type": "code",
      "source": [
        "plot_loss_curves(resnet_history)"
      ],
      "metadata": {
        "colab": {
          "base_uri": "https://localhost:8080/",
          "height": 927
        },
        "id": "FzEvt2jgeQK6",
        "outputId": "e9026d72-e5a0-492d-a877-4bc10416da01"
      },
      "execution_count": null,
      "outputs": [
        {
          "output_type": "display_data",
          "data": {
            "text/plain": [
              "<Figure size 640x480 with 1 Axes>"
            ],
            "image/png": "[encoded data removed]"
          },
          "metadata": {}
        },
        {
          "output_type": "display_data",
          "data": {
            "text/plain": [
              "<Figure size 640x480 with 1 Axes>"
            ],
            "image/png": "[encoded data removed]"
          },
          "metadata": {}
        }
      ]
    },
    {
      "cell_type": "markdown",
      "source": [
        "### Efficient Model"
      ],
      "metadata": {
        "id": "8XWztwCJewQx"
      }
    },
    {
      "cell_type": "code",
      "source": [
        "efficientnet_model = create_model(efficientnet_url, num_classes=train_data_10_percent.num_classes)"
      ],
      "metadata": {
        "id": "hcqi2cxJewQ6"
      },
      "execution_count": null,
      "outputs": []
    },
    {
      "cell_type": "code",
      "source": [
        "efficientnet_model.summary()"
      ],
      "metadata": {
        "colab": {
          "base_uri": "https://localhost:8080/"
        },
        "outputId": "7dccd32f-21fd-4b8c-97d5-bad1d7711634",
        "id": "2p5B4uyLewQ7"
      },
      "execution_count": null,
      "outputs": [
        {
          "output_type": "stream",
          "name": "stdout",
          "text": [
            "Model: \"sequential_3\"\n",
            "_________________________________________________________________\n",
            " Layer (type)                Output Shape              Param #   \n",
            "=================================================================\n",
            " feature_extrator_layer (Ker  (None, 1280)             4049564   \n",
            " asLayer)                                                        \n",
            "                                                                 \n",
            " output_layer (Dense)        (None, 10)                12810     \n",
            "                                                                 \n",
            "=================================================================\n",
            "Total params: 4,062,374\n",
            "Trainable params: 12,810\n",
            "Non-trainable params: 4,049,564\n",
            "_________________________________________________________________\n"
          ]
        }
      ]
    },
    {
      "cell_type": "code",
      "source": [
        "efficientnet_model.compile(loss=\"categorical_crossentropy\",\n",
        "                     optimizer=tf.keras.optimizers.Adam(),\n",
        "                     metrics=[\"accuracy\"])"
      ],
      "metadata": {
        "id": "K_pziMigewQ8"
      },
      "execution_count": null,
      "outputs": []
    },
    {
      "cell_type": "code",
      "source": [
        "from wandb.keras import WandbCallback\n",
        "efficientnet_history = resnet_model.fit(train_data_10_percent,\n",
        "                                  epochs=5,\n",
        "                                  steps_per_epoch=len(train_data_10_percent),\n",
        "                                  validation_data=test_data_10_percent,\n",
        "                                  validation_steps=len(test_data_10_percent),\n",
        "                                  callbacks=[create_tensorboard_callback(dir_name=\"tensorflow_hub\",\n",
        "                                                                          experiment_name=\"efficientb0\"), WandbCallback()])"
      ],
      "metadata": {
        "colab": {
          "base_uri": "https://localhost:8080/"
        },
        "outputId": "0ef18589-1850-4af4-8728-e4b21da928b3",
        "id": "DSekOVELewQ9"
      },
      "execution_count": null,
      "outputs": [
        {
          "output_type": "stream",
          "name": "stderr",
          "text": [
            "\u001b[34m\u001b[1mwandb\u001b[0m: \u001b[33mWARNING\u001b[0m The save_model argument by default saves the model in the HDF5 format that cannot save custom objects like subclassed models and custom layers. This behavior will be deprecated in a future release in favor of the SavedModel format. Meanwhile, the HDF5 model is saved as W&B files and the SavedModel as W&B Artifacts.\n"
          ]
        },
        {
          "output_type": "stream",
          "name": "stdout",
          "text": [
            "Saving Tensorboard log files to: tensorflow_hub/efficientb0/20230503-082244\n",
            "Epoch 1/5\n",
            "24/24 [==============================] - ETA: 0s - loss: 0.3258 - accuracy: 0.9373"
          ]
        },
        {
          "output_type": "stream",
          "name": "stderr",
          "text": [
            "\u001b[34m\u001b[1mwandb\u001b[0m: Adding directory to artifact (/content/wandb/run-20230503_081232-0q2vh1vx/files/model-best)... Done. 0.3s\n"
          ]
        },
        {
          "output_type": "stream",
          "name": "stdout",
          "text": [
            "\b\b\b\b\b\b\b\b\b\b\b\b\b\b\b\b\b\b\b\b\b\b\b\b\b\b\b\b\b\b\b\b\b\b\b\b\b\b\b\b\b\b\b\b\b\b\b\b\b\b\b\b\b\b\b\b\b\b\b\b\b\b\b\b\b\b\b\b\b\b\b\b\b\b\b\b\b\b\b\b\b\b\r24/24 [==============================] - 27s 1s/step - loss: 0.3258 - accuracy: 0.9373 - val_loss: 0.6594 - val_accuracy: 0.7876\n",
            "Epoch 2/5\n",
            "24/24 [==============================] - ETA: 0s - loss: 0.2719 - accuracy: 0.9587"
          ]
        },
        {
          "output_type": "stream",
          "name": "stderr",
          "text": [
            "\u001b[34m\u001b[1mwandb\u001b[0m: Adding directory to artifact (/content/wandb/run-20230503_081232-0q2vh1vx/files/model-best)... Done. 0.3s\n"
          ]
        },
        {
          "output_type": "stream",
          "name": "stdout",
          "text": [
            "\b\b\b\b\b\b\b\b\b\b\b\b\b\b\b\b\b\b\b\b\b\b\b\b\b\b\b\b\b\b\b\b\b\b\b\b\b\b\b\b\b\b\b\b\b\b\b\b\b\b\b\b\b\b\b\b\b\b\b\b\b\b\b\b\b\b\b\b\b\b\b\b\b\b\b\b\b\b\b\b\b\b\r24/24 [==============================] - 26s 1s/step - loss: 0.2719 - accuracy: 0.9587 - val_loss: 0.6437 - val_accuracy: 0.7912\n",
            "Epoch 3/5\n",
            "24/24 [==============================] - ETA: 0s - loss: 0.2287 - accuracy: 0.9680"
          ]
        },
        {
          "output_type": "stream",
          "name": "stderr",
          "text": [
            "\u001b[34m\u001b[1mwandb\u001b[0m: Adding directory to artifact (/content/wandb/run-20230503_081232-0q2vh1vx/files/model-best)... Done. 0.3s\n"
          ]
        },
        {
          "output_type": "stream",
          "name": "stdout",
          "text": [
            "\b\b\b\b\b\b\b\b\b\b\b\b\b\b\b\b\b\b\b\b\b\b\b\b\b\b\b\b\b\b\b\b\b\b\b\b\b\b\b\b\b\b\b\b\b\b\b\b\b\b\b\b\b\b\b\b\b\b\b\b\b\b\b\b\b\b\b\b\b\b\b\b\b\b\b\b\b\b\b\b\b\b\r24/24 [==============================] - 28s 1s/step - loss: 0.2287 - accuracy: 0.9680 - val_loss: 0.6402 - val_accuracy: 0.7876\n",
            "Epoch 4/5\n",
            "24/24 [==============================] - ETA: 0s - loss: 0.1967 - accuracy: 0.9720"
          ]
        },
        {
          "output_type": "stream",
          "name": "stderr",
          "text": [
            "\u001b[34m\u001b[1mwandb\u001b[0m: Adding directory to artifact (/content/wandb/run-20230503_081232-0q2vh1vx/files/model-best)... Done. 0.3s\n"
          ]
        },
        {
          "output_type": "stream",
          "name": "stdout",
          "text": [
            "\b\b\b\b\b\b\b\b\b\b\b\b\b\b\b\b\b\b\b\b\b\b\b\b\b\b\b\b\b\b\b\b\b\b\b\b\b\b\b\b\b\b\b\b\b\b\b\b\b\b\b\b\b\b\b\b\b\b\b\b\b\b\b\b\b\b\b\b\b\b\b\b\b\b\b\b\b\b\b\b\b\b\r24/24 [==============================] - 27s 1s/step - loss: 0.1967 - accuracy: 0.9720 - val_loss: 0.6330 - val_accuracy: 0.7880\n",
            "Epoch 5/5\n",
            "24/24 [==============================] - ETA: 0s - loss: 0.1715 - accuracy: 0.9840"
          ]
        },
        {
          "output_type": "stream",
          "name": "stderr",
          "text": [
            "\u001b[34m\u001b[1mwandb\u001b[0m: Adding directory to artifact (/content/wandb/run-20230503_081232-0q2vh1vx/files/model-best)... Done. 0.3s\n"
          ]
        },
        {
          "output_type": "stream",
          "name": "stdout",
          "text": [
            "\b\b\b\b\b\b\b\b\b\b\b\b\b\b\b\b\b\b\b\b\b\b\b\b\b\b\b\b\b\b\b\b\b\b\b\b\b\b\b\b\b\b\b\b\b\b\b\b\b\b\b\b\b\b\b\b\b\b\b\b\b\b\b\b\b\b\b\b\b\b\b\b\b\b\b\b\b\b\b\b\b\b\r24/24 [==============================] - 32s 1s/step - loss: 0.1715 - accuracy: 0.9840 - val_loss: 0.6306 - val_accuracy: 0.7880\n"
          ]
        }
      ]
    },
    {
      "cell_type": "code",
      "source": [
        "plot_loss_curves(efficientnet_history)"
      ],
      "metadata": {
        "colab": {
          "base_uri": "https://localhost:8080/",
          "height": 927
        },
        "outputId": "d32226b3-4b28-4ccf-9426-22476dd9b3ab",
        "id": "wpvFdMgCewQ9"
      },
      "execution_count": null,
      "outputs": [
        {
          "output_type": "display_data",
          "data": {
            "text/plain": [
              "<Figure size 640x480 with 1 Axes>"
            ],
            "image/png": "[encoded data removed]"
          },
          "metadata": {}
        },
        {
          "output_type": "display_data",
          "data": {
            "text/plain": [
              "<Figure size 640x480 with 1 Axes>"
            ],
            "image/png": "[encoded data removed]"
          },
          "metadata": {}
        }
      ]
    },
    {
      "cell_type": "code",
      "source": [
        "efficientnet_model.layers[0].weights"
      ],
      "metadata": {
        "id": "JCGdy_nrhO0j"
      },
      "execution_count": null,
      "outputs": []
    },
    {
      "cell_type": "markdown",
      "source": [
        "## Compairing models"
      ],
      "metadata": {
        "id": "7LNmEgYNgvrI"
      }
    },
    {
      "cell_type": "code",
      "source": [
        "!tensorboard dev upload --logdir /content/tensorflow_hub/ \\\n",
        "  --name \"EfficentNet vs. ResNet\"\\\n",
        "  --description \"NONE\"\\\n",
        "  --one_shot"
      ],
      "metadata": {
        "colab": {
          "base_uri": "https://localhost:8080/"
        },
        "id": "QQyPyo7Zi4Bk",
        "outputId": "74a4b9f8-3467-470d-b2ae-52b8c024918b"
      },
      "execution_count": null,
      "outputs": [
        {
          "output_type": "stream",
          "name": "stdout",
          "text": [
            "2023-05-03 07:49:49.233934: W tensorflow/compiler/tf2tensorrt/utils/py_utils.cc:38] TF-TRT Warning: Could not find TensorRT\n",
            "\n",
            "New experiment created. View your TensorBoard at: https://tensorboard.dev/experiment/GkpU30QkRuG0oxGCpUzOww/\n",
            "\n",
            "\u001b[1m[2023-05-03T07:49:51]\u001b[0m Started scanning logdir.\n",
            "\u001b[1m[2023-05-03T07:49:59]\u001b[0m Total uploaded: 186 scalars, 0 tensors, 8 binary objects (14.9 MB)\n",
            "\u001b[1m[2023-05-03T07:49:59]\u001b[0m Done scanning logdir.\n",
            "\n",
            "\n",
            "Done. View your TensorBoard at https://tensorboard.dev/experiment/GkpU30QkRuG0oxGCpUzOww/\n"
          ]
        }
      ]
    },
    {
      "cell_type": "code",
      "source": [
        "!tensorboard dev list"
      ],
      "metadata": {
        "colab": {
          "base_uri": "https://localhost:8080/"
        },
        "id": "cBUOySQImGPj",
        "outputId": "6ff21274-ac83-4702-cbc0-6d36795e9bd2"
      },
      "execution_count": null,
      "outputs": [
        {
          "output_type": "stream",
          "name": "stdout",
          "text": [
            "2023-05-03 07:52:14.183894: W tensorflow/compiler/tf2tensorrt/utils/py_utils.cc:38] TF-TRT Warning: Could not find TensorRT\n",
            "https://tensorboard.dev/experiment/GkpU30QkRuG0oxGCpUzOww/\n",
            "\tName                 EfficentNet vs. ResNet\n",
            "\tDescription          NONE\n",
            "\tId                   GkpU30QkRuG0oxGCpUzOww\n",
            "\tCreated              2023-05-03 07:49:51 (2 minutes ago)\n",
            "\tUpdated              2023-05-03 07:49:59 (2 minutes ago)\n",
            "\tRuns                 15\n",
            "\tTags                 5\n",
            "\tScalars              186\n",
            "\tTensor bytes         0\n",
            "\tBinary object bytes  15584433\n",
            "https://tensorboard.dev/experiment/wL83jhq2RnGj3Wj7vFXIVg/\n",
            "\tName                 EfficentNet vs. ResNet\n",
            "\tDescription          NONE\n",
            "\tId                   wL83jhq2RnGj3Wj7vFXIVg\n",
            "\tCreated              2023-05-03 07:48:10 (4 minutes ago)\n",
            "\tUpdated              2023-05-03 07:48:18 (3 minutes ago)\n",
            "\tRuns                 15\n",
            "\tTags                 5\n",
            "\tScalars              186\n",
            "\tTensor bytes         0\n",
            "\tBinary object bytes  15584433\n",
            "https://tensorboard.dev/experiment/ABfMJJi8Tm2bTwnf8KZIOA/\n",
            "\tName                 Convolutional Experiment 3\n",
            "\tDescription          Course example with augmented and random data\n",
            "\tId                   ABfMJJi8Tm2bTwnf8KZIOA\n",
            "\tCreated              2023-04-30 15:44:20\n",
            "\tUpdated              2023-04-30 15:44:25\n",
            "\tRuns                 12\n",
            "\tTags                 5\n",
            "\tScalars              540\n",
            "\tTensor bytes         0\n",
            "\tBinary object bytes  749420\n",
            "https://tensorboard.dev/experiment/eGppLP5gSAuNRbeUETay0g/\n",
            "\tName                 Convolutional Experiment 2\n",
            "\tDescription          Course example with augmented and random data\n",
            "\tId                   eGppLP5gSAuNRbeUETay0g\n",
            "\tCreated              2023-04-30 14:46:57\n",
            "\tUpdated              2023-04-30 14:47:00\n",
            "\tRuns                 8\n",
            "\tTags                 5\n",
            "\tScalars              240\n",
            "\tTensor bytes         0\n",
            "\tBinary object bytes  382434\n",
            "https://tensorboard.dev/experiment/90UGljpLRxOr2VjrJdDLOA/\n",
            "\tName                 Convolutional Experiment 2\n",
            "\tDescription          Course example with augmented and random data\n",
            "\tId                   90UGljpLRxOr2VjrJdDLOA\n",
            "\tCreated              2023-04-30 14:44:54\n",
            "\tUpdated              2023-04-30 14:44:54\n",
            "\tRuns                 0\n",
            "\tTags                 0\n",
            "\tScalars              0\n",
            "\tTensor bytes         0\n",
            "\tBinary object bytes  0\n",
            "https://tensorboard.dev/experiment/JDhEopnXRLydv5MmuY7GAQ/\n",
            "\tName                 Convolutional Experiment 2\n",
            "\tDescription          Course example with augmented and random data\n",
            "\tId                   JDhEopnXRLydv5MmuY7GAQ\n",
            "\tCreated              2023-04-30 14:42:32\n",
            "\tUpdated              2023-04-30 14:42:32\n",
            "\tRuns                 0\n",
            "\tTags                 0\n",
            "\tScalars              0\n",
            "\tTensor bytes         0\n",
            "\tBinary object bytes  0\n",
            "https://tensorboard.dev/experiment/1TQFAxvXSaO0gr74oO7ZyA/\n",
            "\tName                 Convolutional Experiment\n",
            "\tDescription          Course example with augmented and random data\n",
            "\tId                   1TQFAxvXSaO0gr74oO7ZyA\n",
            "\tCreated              2023-04-30 14:12:38\n",
            "\tUpdated              2023-04-30 14:12:42\n",
            "\tRuns                 8\n",
            "\tTags                 5\n",
            "\tScalars              240\n",
            "\tTensor bytes         0\n",
            "\tBinary object bytes  333276\n",
            "https://tensorboard.dev/experiment/0DsJlLJwRIqoLQ6RKVp2bw/\n",
            "\tName                 Convolutional Experiment\n",
            "\tDescription          Course example with augmented and random data\n",
            "\tId                   0DsJlLJwRIqoLQ6RKVp2bw\n",
            "\tCreated              2023-04-30 13:56:11\n",
            "\tUpdated              2023-04-30 13:56:15\n",
            "\tRuns                 8\n",
            "\tTags                 5\n",
            "\tScalars              120\n",
            "\tTensor bytes         0\n",
            "\tBinary object bytes  333276\n",
            "https://tensorboard.dev/experiment/9eP7fGMGSbGv9pRYK54ipw/\n",
            "\tName                 (optional) My latest experiment\n",
            "\tDescription          (optional) Simple comparison of several hyperparameters\n",
            "\tId                   9eP7fGMGSbGv9pRYK54ipw\n",
            "\tCreated              2023-04-30 13:31:31\n",
            "\tUpdated              2023-04-30 13:31:36\n",
            "\tRuns                 6\n",
            "\tTags                 5\n",
            "\tScalars              180\n",
            "\tTensor bytes         0\n",
            "\tBinary object bytes  249068\n",
            "https://tensorboard.dev/experiment/q4DQkSRGTES35nuqWH9TMw/\n",
            "\tName                 [No Name]\n",
            "\tDescription          [No Description]\n",
            "\tId                   q4DQkSRGTES35nuqWH9TMw\n",
            "\tCreated              2023-04-30 13:24:38\n",
            "\tUpdated              2023-04-30 13:24:43\n",
            "\tRuns                 4\n",
            "\tTags                 5\n",
            "\tScalars              150\n",
            "\tTensor bytes         0\n",
            "\tBinary object bytes  165987\n",
            "https://tensorboard.dev/experiment/pUeQpZyoSbyJhq3b3pW0fA/\n",
            "\tName                 (optional) My latest experiment\n",
            "\tDescription          (optional) Simple comparison of several hyperparameters\n",
            "\tId                   pUeQpZyoSbyJhq3b3pW0fA\n",
            "\tCreated              2023-04-30 12:41:43\n",
            "\tUpdated              2023-04-30 12:41:44\n",
            "\tRuns                 2\n",
            "\tTags                 5\n",
            "\tScalars              30\n",
            "\tTensor bytes         0\n",
            "\tBinary object bytes  82913\n",
            "Total: 11 experiment(s)\n"
          ]
        }
      ]
    },
    {
      "cell_type": "code",
      "source": [
        "import wandb\n",
        "wandb.login()\n",
        "wandb.init(project='gpt3')\n"
      ],
      "metadata": {
        "colab": {
          "base_uri": "https://localhost:8080/",
          "height": 391
        },
        "id": "r9yLJm0Ep2ik",
        "outputId": "e09a02fc-e88e-4eeb-fa05-50f68c5277d9"
      },
      "execution_count": null,
      "outputs": [
        {
          "output_type": "display_data",
          "data": {
            "text/plain": [
              "<IPython.core.display.Javascript object>"
            ],
            "application/javascript": [
              "\n",
              "        window._wandbApiKey = new Promise((resolve, reject) => {\n",
              "            function loadScript(url) {\n",
              "            return new Promise(function(resolve, reject) {\n",
              "                let newScript = document.createElement(\"script\");\n",
              "                newScript.onerror = reject;\n",
              "                newScript.onload = resolve;\n",
              "                document.body.appendChild(newScript);\n",
              "                newScript.src = url;\n",
              "            });\n",
              "            }\n",
              "            loadScript(\"https://cdn.jsdelivr.net/npm/postmate/build/postmate.min.js\").then(() => {\n",
              "            const iframe = document.createElement('iframe')\n",
              "            iframe.style.cssText = \"width:0;height:0;border:none\"\n",
              "            document.body.appendChild(iframe)\n",
              "            const handshake = new Postmate({\n",
              "                container: iframe,\n",
              "                url: 'https://wandb.ai/authorize'\n",
              "            });\n",
              "            const timeout = setTimeout(() => reject(\"Couldn't auto authenticate\"), 5000)\n",
              "            handshake.then(function(child) {\n",
              "                child.on('authorize', data => {\n",
              "                    clearTimeout(timeout)\n",
              "                    resolve(data)\n",
              "                });\n",
              "            });\n",
              "            })\n",
              "        });\n",
              "    "
            ]
          },
          "metadata": {}
        },
        {
          "output_type": "stream",
          "name": "stderr",
          "text": [
            "\u001b[34m\u001b[1mwandb\u001b[0m: Logging into wandb.ai. (Learn how to deploy a W&B server locally: https://wandb.me/wandb-server)\n",
            "\u001b[34m\u001b[1mwandb\u001b[0m: You can find your API key in your browser here: https://wandb.ai/authorize\n",
            "wandb: Paste an API key from your profile and hit enter, or press ctrl+c to quit:"
          ]
        },
        {
          "name": "stdout",
          "output_type": "stream",
          "text": [
            " ··········\n"
          ]
        },
        {
          "output_type": "stream",
          "name": "stderr",
          "text": [
            "\u001b[34m\u001b[1mwandb\u001b[0m: Appending key for api.wandb.ai to your netrc file: /root/.netrc\n",
            "\u001b[34m\u001b[1mwandb\u001b[0m: Currently logged in as: \u001b[33mjorgesm97\u001b[0m. Use \u001b[1m`wandb login --relogin`\u001b[0m to force relogin\n"
          ]
        },
        {
          "output_type": "display_data",
          "data": {
            "text/plain": [
              "<IPython.core.display.HTML object>"
            ],
            "text/html": [
              "Tracking run with wandb version 0.15.1"
            ]
          },
          "metadata": {}
        },
        {
          "output_type": "display_data",
          "data": {
            "text/plain": [
              "<IPython.core.display.HTML object>"
            ],
            "text/html": [
              "Run data is saved locally in <code>/content/wandb/run-20230503_081232-0q2vh1vx</code>"
            ]
          },
          "metadata": {}
        },
        {
          "output_type": "display_data",
          "data": {
            "text/plain": [
              "<IPython.core.display.HTML object>"
            ],
            "text/html": [
              "Syncing run <strong><a href='https://wandb.ai/jorgesm97/gpt3/runs/0q2vh1vx' target=\"_blank\">polished-aardvark-1</a></strong> to <a href='https://wandb.ai/jorgesm97/gpt3' target=\"_blank\">Weights & Biases</a> (<a href='https://wandb.me/run' target=\"_blank\">docs</a>)<br/>"
            ]
          },
          "metadata": {}
        },
        {
          "output_type": "display_data",
          "data": {
            "text/plain": [
              "<IPython.core.display.HTML object>"
            ],
            "text/html": [
              " View project at <a href='https://wandb.ai/jorgesm97/gpt3' target=\"_blank\">https://wandb.ai/jorgesm97/gpt3</a>"
            ]
          },
          "metadata": {}
        },
        {
          "output_type": "display_data",
          "data": {
            "text/plain": [
              "<IPython.core.display.HTML object>"
            ],
            "text/html": [
              " View run at <a href='https://wandb.ai/jorgesm97/gpt3/runs/0q2vh1vx' target=\"_blank\">https://wandb.ai/jorgesm97/gpt3/runs/0q2vh1vx</a>"
            ]
          },
          "metadata": {}
        },
        {
          "output_type": "error",
          "ename": "TypeError",
          "evalue": "ignored",
          "traceback": [
            "\u001b[0;31m---------------------------------------------------------------------------\u001b[0m",
            "\u001b[0;31mTypeError\u001b[0m                                 Traceback (most recent call last)",
            "\u001b[0;32m<ipython-input-74-0fb84211a61e>\u001b[0m in \u001b[0;36m<cell line: 5>\u001b[0;34m()\u001b[0m\n\u001b[1;32m      3\u001b[0m \u001b[0mwandb\u001b[0m\u001b[0;34m.\u001b[0m\u001b[0minit\u001b[0m\u001b[0;34m(\u001b[0m\u001b[0mproject\u001b[0m\u001b[0;34m=\u001b[0m\u001b[0;34m'gpt3'\u001b[0m\u001b[0;34m)\u001b[0m\u001b[0;34m\u001b[0m\u001b[0;34m\u001b[0m\u001b[0m\n\u001b[1;32m      4\u001b[0m \u001b[0;34m\u001b[0m\u001b[0m\n\u001b[0;32m----> 5\u001b[0;31m \u001b[0mwandb\u001b[0m\u001b[0;34m.\u001b[0m\u001b[0mtensorflow\u001b[0m\u001b[0;34m.\u001b[0m\u001b[0mlog\u001b[0m\u001b[0;34m(\u001b[0m\u001b[0mresnet_history\u001b[0m\u001b[0;34m.\u001b[0m\u001b[0mhistory\u001b[0m\u001b[0;34m(\u001b[0m\u001b[0;34m)\u001b[0m\u001b[0;34m)\u001b[0m\u001b[0;34m\u001b[0m\u001b[0;34m\u001b[0m\u001b[0m\n\u001b[0m",
            "\u001b[0;31mTypeError\u001b[0m: 'dict' object is not callable"
          ]
        }
      ]
    },
    {
      "cell_type": "code",
      "source": [],
      "metadata": {
        "colab": {
          "base_uri": "https://localhost:8080/",
          "height": 165
        },
        "id": "MKYP7Qveq9Ud",
        "outputId": "a17c5aa2-31a6-488a-eacb-8326c04cd013"
      },
      "execution_count": null,
      "outputs": [
        {
          "output_type": "error",
          "ename": "NameError",
          "evalue": "ignored",
          "traceback": [
            "\u001b[0;31m---------------------------------------------------------------------------\u001b[0m",
            "\u001b[0;31mNameError\u001b[0m                                 Traceback (most recent call last)",
            "\u001b[0;32m<ipython-input-77-0f01c66c2148>\u001b[0m in \u001b[0;36m<cell line: 1>\u001b[0;34m()\u001b[0m\n\u001b[0;32m----> 1\u001b[0;31m \u001b[0mwandb\u001b[0m\u001b[0;34m.\u001b[0m\u001b[0mlog\u001b[0m\u001b[0;34m(\u001b[0m\u001b[0;34m{\u001b[0m\u001b[0;34m\"loss\"\u001b[0m\u001b[0;34m:\u001b[0m \u001b[0mloss\u001b[0m\u001b[0;34m,\u001b[0m \u001b[0;34m\"val_acc\"\u001b[0m\u001b[0;34m:\u001b[0m \u001b[0mval_acc\u001b[0m\u001b[0;34m}\u001b[0m\u001b[0;34m)\u001b[0m\u001b[0;34m\u001b[0m\u001b[0;34m\u001b[0m\u001b[0m\n\u001b[0m",
            "\u001b[0;31mNameError\u001b[0m: name 'loss' is not defined"
          ]
        }
      ]
    },
    {
      "cell_type": "code",
      "source": [
        "!pip install wandb -qU"
      ],
      "metadata": {
        "colab": {
          "base_uri": "https://localhost:8080/"
        },
        "id": "I_vu4qeKqe-k",
        "outputId": "a856b9eb-92de-4831-c8f8-25b5d40b2a2a"
      },
      "execution_count": null,
      "outputs": [
        {
          "output_type": "stream",
          "name": "stdout",
          "text": [
            "\u001b[2K     \u001b[90m━━━━━━━━━━━━━━━━━━━━━━━━━━━━━━━━━━━━━━━━\u001b[0m \u001b[32m2.0/2.0 MB\u001b[0m \u001b[31m37.3 MB/s\u001b[0m eta \u001b[36m0:00:00\u001b[0m\n",
            "\u001b[2K     \u001b[90m━━━━━━━━━━━━━━━━━━━━━━━━━━━━━━━━━━━━━━\u001b[0m \u001b[32m201.7/201.7 kB\u001b[0m \u001b[31m13.9 MB/s\u001b[0m eta \u001b[36m0:00:00\u001b[0m\n",
            "\u001b[?25h  Preparing metadata (setup.py) ... \u001b[?25l\u001b[?25hdone\n",
            "\u001b[2K     \u001b[90m━━━━━━━━━━━━━━━━━━━━━━━━━━━━━━━━━━━━━━\u001b[0m \u001b[32m184.3/184.3 kB\u001b[0m \u001b[31m22.7 MB/s\u001b[0m eta \u001b[36m0:00:00\u001b[0m\n",
            "\u001b[2K     \u001b[90m━━━━━━━━━━━━━━━━━━━━━━━━━━━━━━━━━━━━━━━━\u001b[0m \u001b[32m62.7/62.7 kB\u001b[0m \u001b[31m7.7 MB/s\u001b[0m eta \u001b[36m0:00:00\u001b[0m\n",
            "\u001b[?25h  Building wheel for pathtools (setup.py) ... \u001b[?25l\u001b[?25hdone\n"
          ]
        }
      ]
    }
  ]
}